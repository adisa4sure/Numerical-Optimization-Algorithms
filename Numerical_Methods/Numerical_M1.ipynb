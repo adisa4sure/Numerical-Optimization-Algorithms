{
 "cells": [
  {
   "cell_type": "markdown",
   "metadata": {},
   "source": [
    "### Saheed Adisa Ganiyu\n",
    "### Numerical Method Algorithms"
   ]
  },
  {
   "cell_type": "code",
   "execution_count": 193,
   "metadata": {},
   "outputs": [],
   "source": [
    "#importing the necessary modules\n",
    "import numpy as np\n",
    "from matplotlib import pyplot as plt\n",
    "import math"
   ]
  },
  {
   "cell_type": "code",
   "execution_count": 194,
   "metadata": {},
   "outputs": [],
   "source": [
    "def vec_Pnorm(x, p=2):\n",
    "    \"\"\"\n",
    "    This function computes the p_norm of a vector: 1<=p<=\\infty\n",
    "    \n",
    "    INPUT:\n",
    "        \n",
    "        - `x` vector\n",
    "        \n",
    "        - `p` - the type of norm to be computed.\n",
    "        If `p` is omited, it will be computed. because, it has a default value as 2\n",
    "        \n",
    "    OUTPUT:\n",
    "            -It returns a scalar value.\n",
    "    \"\"\"\n",
    "    if p == float(\"inf\"):\n",
    "        return max(x)\n",
    "    x = np.array(x)\n",
    "    res = (np.sum(x**p)**(1/p))\n",
    "    return res"
   ]
  },
  {
   "cell_type": "code",
   "execution_count": 195,
   "metadata": {},
   "outputs": [],
   "source": [
    "def sign(x):\n",
    "    \"\"\"\n",
    "    This function computes the sign of given number, if x>=0, return 1 else -1.\n",
    "    INPUT:\n",
    "        - `x` a given real number.\n",
    "    OUTPUT:\n",
    "            return 1 0r -1\n",
    "    \"\"\"\n",
    "    if x >= 0:\n",
    "        return 1\n",
    "    return -1"
   ]
  },
  {
   "cell_type": "markdown",
   "metadata": {},
   "source": [
    "### Problem 1: Back-Substitution\n",
    "We implement this algorithm for back substitution"
   ]
  },
  {
   "cell_type": "markdown",
   "metadata": {},
   "source": [
    "Algorithm 17.1. Back Substitution\n",
    "$$\n",
    "\\begin{aligned}\n",
    "x_m &=b_m / r_{m m} \\\\\n",
    "x_{m-1} &=\\left(b_{m-1}-x_m r_{m-1, m}\\right) / r_{m-1, m-1} \\\\\n",
    "x_{m-2} &=\\left(b_{m-2}-x_{m-1} r_{m-2, m-1}-x_m r_{m-2, m}\\right) / r_{m-2, m-2} \\\\\n",
    "& \\vdots \\\\\n",
    "x_j &=\\left(b_j-\\sum_{k=j+1}^m x_k r_{j k}\\right) / r_{j j}\n",
    "\\end{aligned}\n",
    "$$"
   ]
  },
  {
   "cell_type": "code",
   "execution_count": 196,
   "metadata": {},
   "outputs": [],
   "source": [
    "def back_subt(R, b):\n",
    "    \"\"\"\n",
    "    This function computes the solution of a linear system using back-substitution method.\n",
    "    \n",
    "    INPUT:\n",
    "    \n",
    "        - `R` a sqaure upper-triangular matrix.\n",
    "        - `b` a vector b computes the solution to a linear system.\n",
    "    OUTPUT:\n",
    "    \n",
    "        - `x` the vector solution.\n",
    "\n",
    "    \"\"\"\n",
    "    n = np.size(b)\n",
    "    x = np.zeros(n)\n",
    "    for i in range(n-1, -1, -1):\n",
    "        tmp = b[i]\n",
    "        for j in range(n-1, i, -1):\n",
    "            tmp -= x[j]*R[i,j]\n",
    "        x[i] = tmp/R[i,i]\n",
    "    return x"
   ]
  },
  {
   "cell_type": "code",
   "execution_count": 197,
   "metadata": {},
   "outputs": [],
   "source": [
    "#stuff to bold a text in printing\n",
    "start = \"\\033[1m\"\n",
    "end = \"\\033[0;0m\""
   ]
  },
  {
   "cell_type": "code",
   "execution_count": 198,
   "metadata": {},
   "outputs": [
    {
     "name": "stdout",
     "output_type": "stream",
     "text": [
      "R = \n",
      " [[-1  1  1  2  3]\n",
      " [ 0 -1  1  1  2]\n",
      " [ 0  0 -1  1  1]\n",
      " [ 0  0  0 -1  1]\n",
      " [ 0  0  0  0 -1]]\n",
      "\n",
      " b =  [27 15  6  1 -5]\n",
      "\n",
      "\u001b[1m The solution x = \u001b[0;0m [1. 2. 3. 4. 5.]\n"
     ]
    }
   ],
   "source": [
    "#Testrun for back substitution\n",
    "R = np.mat([[-1,1,1,2,3],[0,-1,1,1,2],[0,0,-1,1,1],[0,0,0,-1,1],[0,0,0,0,-1]]); print(\"R = \\n\",R)      #creating upper triangular matrix\n",
    "b = np.array([27,15,6,1,-5]); print(\"\\n b = \",b)\n",
    "x=back_subt(R, b)         #executing back substitution\n",
    "print(\"\\n\"+start+ \" The solution x = \"+ end,x)"
   ]
  },
  {
   "cell_type": "markdown",
   "metadata": {},
   "source": [
    "**Notice:** The solution $(\\bar{x}) = [1, 2, 3, 4, 5,]$"
   ]
  },
  {
   "cell_type": "code",
   "execution_count": 199,
   "metadata": {},
   "outputs": [
    {
     "name": "stdout",
     "output_type": "stream",
     "text": [
      "\u001b[1m Relative Error = \u001b[0;0m 0.0\n"
     ]
    }
   ],
   "source": [
    "#Verification: here we verify by ||Rx - b||/||b|| i.e relative error\n",
    "Rx = R.dot(x)\n",
    "Rx_b = Rx - b\n",
    "norm_Rx_b = vec_Pnorm(Rx_b)\n",
    "norm_b = vec_Pnorm(b)\n",
    "rel_err = norm_Rx_b/norm_b\n",
    "print(start+ \" Relative Error = \"+ end,rel_err)"
   ]
  },
  {
   "cell_type": "markdown",
   "metadata": {},
   "source": [
    "**Observation:** The just above result aserts the statement which says \"a backward stable algorithm gives exactly the right answer\n",
    "to nearly the right question\"."
   ]
  },
  {
   "cell_type": "markdown",
   "metadata": {},
   "source": [
    "### Problem 2: Householder Triangulization\n",
    "We implement this following algorithm"
   ]
  },
  {
   "cell_type": "markdown",
   "metadata": {},
   "source": [
    "$$\n",
    "\\begin{aligned}\n",
    "Q^{\\text {star }}=&I_{(m \\times m)}\\\\\n",
    "R=&A\\\\\n",
    "n_{\\text {end }}=&n\\\\\n",
    "\\text { if }(n=&m) n_{\\text {end }}=n-1\\\\\n",
    "\\text { for } k=&1 \\text { to } n_{\\text {end }}\\\\\n",
    "&x=R_{k: m, k}\\\\\n",
    "&v_k=\\operatorname{sign}\\left(x_1\\right)\\|x\\|_2 e_1+x\\\\\n",
    "&v_k=v_k /\\left\\|v_k\\right\\|_2\\\\\n",
    "&R_{k: m, k: n}=R_{k: m, k: n}-2 v_k\\left(v_k^*\\right) R_{k: m, k: n}\\\\\n",
    "&Q_{k: m,:}^{\\text {star }}=Q_{k: m,:}^{\\text {star }}-2 v_k\\left(v_k^*\\right) Q_{k: m,:}^{\\text {star }}\\\\\n",
    "\\text{ end for }&\\\\\n",
    "Q=&\\left(Q^{\\text {star }}\\right)^*\n",
    "\\end{aligned}\n",
    "$$"
   ]
  },
  {
   "cell_type": "code",
   "execution_count": 200,
   "metadata": {},
   "outputs": [],
   "source": [
    "#Household Triangular function\n",
    "import copy as cp\n",
    "def Hsd_Trig(A):\n",
    "    \"\"\"\n",
    "    This function computes QR-factorization of a given a rectangular matrix\n",
    "    using Householder triangularization method.\n",
    "    \n",
    "    INPUT:\n",
    "        - `A` a rectangular matrix (m x n) such that m>=n.\n",
    "    OUTPUT:\n",
    "        - `Q` the square unitary matrix\n",
    "        - `R` the uper triangular matrix\n",
    "    \"\"\"\n",
    "    m = np.shape(A)[0]\n",
    "    n = np.shape(A)[1]\n",
    "    n_end = n\n",
    "    R = cp.deepcopy(np.asmatrix(A, dtype='float64'))\n",
    "    Q_star = np.eye(m,m)\n",
    "    if n==m:\n",
    "        n_end = n-1\n",
    "    for k in range(n_end):\n",
    "        x = np.array(R[k:m,k]).ravel()\n",
    "        x_1 = x[0]\n",
    "        e_1 = np.array([1] + [0]*(len(x)-1))\n",
    "        norm_x = vec_Pnorm(x)\n",
    "        vk = sign(x_1)*norm_x*e_1 + x\n",
    "        vk = vk/vec_Pnorm(vk)\n",
    "        out_vk = np.outer(vk,vk.T)\n",
    "        R[k:m,k:n] = R[k:m,k:n] - np.matmul(2*out_vk,R[k:m,k:n])\n",
    "        Q_star[k:m,:] = Q_star[k:m,:] - np.matmul(2*out_vk,Q_star[k:m,:])\n",
    "    return np.asmatrix(Q_star).T, R"
   ]
  },
  {
   "cell_type": "code",
   "execution_count": 201,
   "metadata": {},
   "outputs": [
    {
     "name": "stdout",
     "output_type": "stream",
     "text": [
      "\u001b[1m The outcomes are the following: \u001b[0;0m\n",
      "A =\n",
      "[[ 2 -2 18]\n",
      " [ 2  1  0]\n",
      " [ 1  2  0]]\n",
      "\n",
      " Q =\n",
      "[[-0.66666667  0.66666667  0.33333333]\n",
      " [-0.66666667 -0.33333333 -0.66666667]\n",
      " [-0.33333333 -0.66666667  0.66666667]]\n",
      "\n",
      " R =\n",
      "[[-3.00000000e+00  4.44089210e-16 -1.20000000e+01]\n",
      " [ 2.22044605e-16 -3.00000000e+00  1.20000000e+01]\n",
      " [ 1.11022302e-16  0.00000000e+00  6.00000000e+00]]\n"
     ]
    }
   ],
   "source": [
    "#Testrun for Householder triangularization\n",
    "A=np.mat([[2,-2,18],[2,1,0],[1,2,0]])\n",
    "Q_, R_ = Hsd_Trig(A)          #decomposing into QR-factorization\n",
    "print(start+\" The outcomes are the following: \"+end)\n",
    "print(\"A =\")\n",
    "print(A)\n",
    "print(\"\\n Q =\")\n",
    "print(Q_)\n",
    "print(\"\\n R =\")\n",
    "print(R_)"
   ]
  },
  {
   "cell_type": "code",
   "execution_count": 202,
   "metadata": {},
   "outputs": [
    {
     "name": "stdout",
     "output_type": "stream",
     "text": [
      "Verifying the decomposition i.e. if A==QR\n",
      "[[ True  True  True]\n",
      " [ True  True  True]\n",
      " [ True  True  True]]\n",
      "\n",
      " Verifying the unitary of Q, i.e. if Q*Q==QQ*\n",
      "[[ True  True  True]\n",
      " [ True  True  True]\n",
      " [ True  True  True]]\n"
     ]
    }
   ],
   "source": [
    "#Verifying\n",
    "A=np.mat([[2,-2,18],[2,1,0],[1,2,0]])\n",
    "Q,R =Hsd_Trig(A)        #decomposing into QR-factorization\n",
    "print(\"Verifying the decomposition i.e. if A==QR\")\n",
    "print(A==np.matmul(Q,R).round())\n",
    "print(\"\\n Verifying the unitary of Q, i.e. if Q*Q==QQ*\")\n",
    "print(np.matmul(Q.T,Q).round()==np.matmul(Q,Q.T).round())"
   ]
  },
  {
   "cell_type": "markdown",
   "metadata": {},
   "source": [
    "### Problem 3: Polynomial interpolation and approximation\n"
   ]
  },
  {
   "cell_type": "code",
   "execution_count": 203,
   "metadata": {},
   "outputs": [],
   "source": [
    "def Vmd(a,b,m=4,n=4):\n",
    "    \"\"\"\n",
    "    This function generate Vandermonde matrix based on given interval and dimension\n",
    "    \n",
    "    INPUT:\n",
    "        - `a` the lower bound of the interval\n",
    "        - `b` the upper bound of the interval\n",
    "        - `m` the number of matrix row\n",
    "        - `n` the number of matrix columns\n",
    "        \n",
    "    OUTPUT:\n",
    "        - `V` the vandermonde matrix\n",
    "    \"\"\"\n",
    "    x = np.linspace(a,b,m)\n",
    "    v = np.asmatrix([x**i for i in range(n)])\n",
    "    return v.T"
   ]
  },
  {
   "cell_type": "markdown",
   "metadata": {},
   "source": [
    "#### Problem 3(a)"
   ]
  },
  {
   "cell_type": "code",
   "execution_count": 204,
   "metadata": {},
   "outputs": [
    {
     "name": "stdout",
     "output_type": "stream",
     "text": [
      "\u001b[1m The outcomes are the following: \u001b[0;0m\n",
      "V =\n",
      "[[ 1.  0.  0.  0.]\n",
      " [ 1.  1.  1.  1.]\n",
      " [ 1.  2.  4.  8.]\n",
      " [ 1.  3.  9. 27.]]\n",
      "\n",
      " Q =\n",
      "[[-0.5        -0.67082039  0.5        -0.2236068 ]\n",
      " [-0.5        -0.2236068  -0.5         0.67082039]\n",
      " [-0.5         0.2236068  -0.5        -0.67082039]\n",
      " [-0.5         0.67082039  0.5         0.2236068 ]]\n",
      "\n",
      " R =\n",
      "[[-2.00000000e+00 -3.00000000e+00 -7.00000000e+00 -1.80000000e+01]\n",
      " [-2.22044605e-16  2.23606798e+00  6.70820393e+00  1.96773982e+01]\n",
      " [-2.22044605e-16  3.33066907e-16  2.00000000e+00  9.00000000e+00]\n",
      " [-2.22044605e-16  6.66133815e-16 -1.11022302e-16  1.34164079e+00]]\n"
     ]
    }
   ],
   "source": [
    "#Computing Vandermonde matrix and its QR-factorization for problem 3(a) \n",
    "Vm1=Vmd(a=0,b=3,m=4,n=4)\n",
    "Q,R =Hsd_Trig(Vm1)       #decomposing into QR-factorization\n",
    "print(start+\" The outcomes are the following: \"+end)\n",
    "print(\"V =\")\n",
    "print(Vm1)\n",
    "print(\"\\n Q =\")\n",
    "print(Q)\n",
    "print(\"\\n R =\")\n",
    "print(R)"
   ]
  },
  {
   "cell_type": "code",
   "execution_count": 205,
   "metadata": {},
   "outputs": [
    {
     "name": "stdout",
     "output_type": "stream",
     "text": [
      "\n",
      " The solution a_bar =  [ 1.00000000e+00 -7.94410929e-16  1.50000000e+00 -5.00000000e-01]\n"
     ]
    }
   ],
   "source": [
    "#Finding solution of Vm.a = y by computing Y = Q*b and solving R.a=Y for problem 3(a)\n",
    "ym1_bar = np.array([1,2,3,1])\n",
    "Y1 = np.matmul(Q.T,ym1_bar)\n",
    "Y1 = np.array(Y1).ravel()\n",
    "#print(\"Y =\",Y1)\n",
    "a_bar = back_subt(R, Y1)\n",
    "print(\"\\n The solution a_bar = \", a_bar)"
   ]
  },
  {
   "cell_type": "markdown",
   "metadata": {},
   "source": [
    "**Notice:** The solution $(\\bar{a}) = [ 1.00000000e+00, -7.94410929e-16,  1.50000000e+00, -5.00000000e-01]$"
   ]
  },
  {
   "cell_type": "code",
   "execution_count": 206,
   "metadata": {},
   "outputs": [],
   "source": [
    "#Considering when M=257 for problem 3(a)\n",
    "VM1=Vmd(a=0,b=3,m=257,n=4)\n",
    "yM1_bar=np.matmul(VM1,a_bar)\n",
    "yM1_bar=np.array(yM1_bar).ravel()"
   ]
  },
  {
   "cell_type": "code",
   "execution_count": 207,
   "metadata": {},
   "outputs": [
    {
     "data": {
      "image/png": "[encoded data removed]",
      "text/plain": [
       "<Figure size 432x288 with 1 Axes>"
      ]
     },
     "metadata": {
      "needs_background": "light"
     },
     "output_type": "display_data"
    }
   ],
   "source": [
    "#Ploting \n",
    "a=0;b=3;m=4;n=4; M=257\n",
    "xm1 = np.linspace(a,b,m)\n",
    "xM1 = np.linspace(a,b,M)\n",
    "plt.plot(xm1,ym1_bar, 'bo', color='y', label=r'$m=4$')\n",
    "plt.plot(xM1,yM1_bar,label=r'$M=257$')\n",
    "plt.title(r\"Fig1: Polynomial interpolation graph of 4 data point\")\n",
    "plt.xlabel('x-values')\n",
    "plt.ylabel(r'$\\bar{y}$')\n",
    "plt.legend()\n",
    "plt.show()"
   ]
  },
  {
   "cell_type": "markdown",
   "metadata": {},
   "source": [
    "**Remark:** the fig1 displays polynomial interpolation of 4 points data in which P(x) passes through all of them and follows the same pattern, this shows well depicted form of given data.\n"
   ]
  },
  {
   "cell_type": "markdown",
   "metadata": {},
   "source": [
    "#### Problem 3(b)"
   ]
  },
  {
   "cell_type": "code",
   "execution_count": 208,
   "metadata": {},
   "outputs": [
    {
     "name": "stdout",
     "output_type": "stream",
     "text": [
      "\u001b[1m The outcomes are the following: \u001b[0;0m\n",
      "V =\n",
      "[[ 1.     0.     0.     0.   ]\n",
      " [ 1.     0.5    0.25   0.125]\n",
      " [ 1.     1.     1.     1.   ]\n",
      " [ 1.     1.5    2.25   3.375]\n",
      " [ 1.     2.     4.     8.   ]\n",
      " [ 1.     2.5    6.25  15.625]\n",
      " [ 1.     3.     9.    27.   ]]\n",
      "\n",
      " Q =\n",
      "[[-3.77964473e-01 -5.66946710e-01  5.45544726e-01 -4.08248290e-01\n",
      "  -1.36221063e-01 -2.20533053e-01 -6.50965905e-02]\n",
      " [-3.77964473e-01 -3.77964473e-01 -4.99600361e-16  4.08248290e-01\n",
      "   3.97563213e-01  5.13341461e-01  3.55025470e-01]\n",
      " [-3.77964473e-01 -1.88982237e-01 -3.27326835e-01  4.08248290e-01\n",
      "  -1.90659606e-01 -1.05326519e-01 -7.07230010e-01]\n",
      " [-3.77964473e-01  5.55111512e-17 -4.36435780e-01 -3.33066907e-16\n",
      "  -4.88572443e-01 -3.01447479e-01  5.80597151e-01]\n",
      " [-3.77964473e-01  1.88982237e-01 -3.27326835e-01 -4.08248290e-01\n",
      "   6.77358785e-01 -2.89117269e-01 -7.22172357e-02]\n",
      " [-3.77964473e-01  3.77964473e-01  2.77555756e-17 -4.08248290e-01\n",
      "  -2.96851500e-01  6.60374061e-01 -1.52984749e-01]\n",
      " [-3.77964473e-01  5.66946710e-01  5.45544726e-01  4.08248290e-01\n",
      "   3.73826154e-02 -2.57291203e-01  6.19059643e-02]]\n",
      "\n",
      " R =\n",
      "[[-2.64575131e+00 -3.96862697e+00 -8.59869176e+00 -2.08352916e+01]\n",
      " [ 1.11022302e-16  2.64575131e+00  7.93725393e+00  2.24888861e+01]\n",
      " [ 1.11022302e-16  1.38777878e-17  2.29128785e+00  1.03107953e+01]\n",
      " [ 1.11022302e-16  0.00000000e+00  2.22044605e-16  1.83711731e+00]\n",
      " [ 1.11022302e-16 -1.11022302e-16  0.00000000e+00 -1.11022302e-16]\n",
      " [ 1.11022302e-16  0.00000000e+00  1.11022302e-16  0.00000000e+00]\n",
      " [ 1.11022302e-16 -2.22044605e-16  0.00000000e+00  0.00000000e+00]]\n"
     ]
    }
   ],
   "source": [
    "#Computing Vandermonde matrix and its QR-factorization for problem 3(b)\n",
    "a=0;b=3;m=7;n=4\n",
    "Vm2=Vmd(a=0,b=3,m=7,n=4)\n",
    "Q2,R2 =Hsd_Trig(Vm2)        #decomposing into QR-factorization\n",
    "print(start+\" The outcomes are the following: \"+end)\n",
    "print(\"V =\")\n",
    "print(Vm2)\n",
    "print(\"\\n Q =\")\n",
    "print(Q2)\n",
    "print(\"\\n R =\")\n",
    "print(R2)"
   ]
  },
  {
   "cell_type": "code",
   "execution_count": 209,
   "metadata": {},
   "outputs": [
    {
     "name": "stdout",
     "output_type": "stream",
     "text": [
      "\n",
      " The Solution a_bar = [ 1.07142857  3.54761905 -3.14285714  0.66666667]\n"
     ]
    }
   ],
   "source": [
    "#Finding solution of Vm.a = y by computing Y = Q*b and solving R.a=Y for problem 3(b)\n",
    "ym2_bar = np.array([1, 2, 3, 1, 0, 2, 1])\n",
    "Y2 = np.matmul(Q2.T,ym2_bar)\n",
    "Y2 = np.array(Y2).ravel()\n",
    "#print(\"Y =\",Y2)\n",
    "R_2 = x = np.delete(R2, range(m-n+1,m), axis=0)       #removing the silent rows of R\n",
    "Y2 = Y2[0:n]          #making Y to be in conformable form by rmoving some lower elements\n",
    "a_bar = back_subt(R2, Y2)\n",
    "print(\"\\n The Solution a_bar =\", a_bar)"
   ]
  },
  {
   "cell_type": "markdown",
   "metadata": {},
   "source": [
    "**Notice:** The solution $(\\bar{a}) = [ 1.07142857,  3.54761905, -3.14285714,  0.66666667]$"
   ]
  },
  {
   "cell_type": "code",
   "execution_count": 210,
   "metadata": {},
   "outputs": [],
   "source": [
    "#Considering when M=257 for problem 3(b)\n",
    "VM2=Vmd(a=0,b=3,m=257,n=4)\n",
    "yM2_bar=np.matmul(VM2,a_bar)\n",
    "yM2_bar=np.array(yM2_bar).ravel()"
   ]
  },
  {
   "cell_type": "code",
   "execution_count": 211,
   "metadata": {},
   "outputs": [
    {
     "data": {
      "image/png": "[encoded data removed]",
      "text/plain": [
       "<Figure size 432x288 with 1 Axes>"
      ]
     },
     "metadata": {
      "needs_background": "light"
     },
     "output_type": "display_data"
    }
   ],
   "source": [
    "#Ploting \n",
    "a=0;b=3;m=7;n=4; M=257\n",
    "xm2 = np.linspace(a,b,m)\n",
    "xM2 = np.linspace(a,b,M)\n",
    "plt.plot(xm2,ym2_bar, 'bo', color='y', label=r'$m=7$')\n",
    "plt.plot(xM2,yM2_bar,label=r'$M=257$')\n",
    "plt.title(r\"Fig2: Polynomial interpolation graph of 7 data point\")\n",
    "plt.xlabel('x-values')\n",
    "plt.ylabel(r'$\\bar{y}$')\n",
    "plt.legend()\n",
    "plt.show()"
   ]
  },
  {
   "cell_type": "markdown",
   "metadata": {},
   "source": [
    "**Remark:** the fig2 displays polynomial interpolation of 7 points data in which P(x) passes through none of them but nearly have the same flow of pattern, this shows wrong interpolation of those points and calls for adjustment.\n"
   ]
  },
  {
   "cell_type": "markdown",
   "metadata": {},
   "source": [
    "#### Problem 3(c)"
   ]
  },
  {
   "cell_type": "code",
   "execution_count": 212,
   "metadata": {},
   "outputs": [],
   "source": [
    "#Computing Vandermonde matrix and its QR-factorization for problem 3(c) \n",
    "Vm3=Vmd(a=-3,b=3,m=15,n=15)\n",
    "Q3,R3 =Hsd_Trig(Vm3)       #decomposing into QR-factorization\n",
    "#print(\"V =\")\n",
    "#print(Vm3)\n",
    "#print(\"\\n Q =\")\n",
    "#print(Q3)\n",
    "#print(\"\\n R =\")\n",
    "#print(R3)"
   ]
  },
  {
   "cell_type": "code",
   "execution_count": 213,
   "metadata": {},
   "outputs": [
    {
     "name": "stdout",
     "output_type": "stream",
     "text": [
      "\n",
      " The Solution a_bar = [ 1.00000000e+00  2.86666592e-13 -9.80386478e-01 -3.88924376e-13\n",
      "  8.18949638e-01  1.94380983e-13 -4.68959572e-01 -6.29687357e-14\n",
      "  1.60489229e-01  1.40308823e-14 -3.04873504e-02 -1.67472522e-15\n",
      "  2.92491380e-03  7.56666910e-17 -1.09488752e-04]\n"
     ]
    }
   ],
   "source": [
    "#Finding solution of Vm.a = y by computing Y = Q*b and solving R.a=Y for problem 3(c)\n",
    "temp =np.array(Vm3[:,1]).ravel() #extracting the column 2 of the generated V. matrix\n",
    "ym3_bar = np.array([1/(1+x**2) for x in temp])\n",
    "Y3 = np.matmul(Q3.T,ym3_bar)       #computing Q*b\n",
    "Y3 = np.array(Y3).ravel()\n",
    "#print(\"Y =\",Y3)\n",
    "a_bar = back_subt(R3, Y3)         # computing Ra=Y\n",
    "print(\"\\n The Solution a_bar =\", a_bar)"
   ]
  },
  {
   "cell_type": "markdown",
   "metadata": {},
   "source": [
    "**Notice:** The solution $(\\bar{a}) = [ 1.00000000e+00,  2.86666592e-13, -9.80386478e-01, -3.88924376e-13,\n",
    "  8.18949638e-01,  1.94380983e-13, -4.68959572e-01, -6.29687357e-14,\n",
    "  1.60489229e-01,  1.40308823e-14, -3.04873504e-02, -1.67472522e-15,\n",
    "  2.92491380e-03,  7.56666910e-17, -1.09488752e-04]$"
   ]
  },
  {
   "cell_type": "code",
   "execution_count": 214,
   "metadata": {},
   "outputs": [],
   "source": [
    "#Considering when M=257 for problem 3(c)\n",
    "VM3=Vmd(a=-3,b=3,m=257,n=15)\n",
    "yM3_bar=np.matmul(VM3,a_bar)\n",
    "yM3_bar=np.array(yM3_bar).ravel()"
   ]
  },
  {
   "cell_type": "code",
   "execution_count": 215,
   "metadata": {},
   "outputs": [
    {
     "data": {
      "image/png": "[encoded data removed]",
      "text/plain": [
       "<Figure size 432x288 with 1 Axes>"
      ]
     },
     "metadata": {
      "needs_background": "light"
     },
     "output_type": "display_data"
    }
   ],
   "source": [
    "#Ploting \n",
    "a=-3;b=3;m=15;n=15; M=257\n",
    "xm3 = np.linspace(a,b,m)\n",
    "xM3 = np.linspace(a,b,M)\n",
    "plt.plot(xm3,ym3_bar, 'bo', color='y', label=r'$m=15$')\n",
    "plt.plot(xM3,yM3_bar,label=r'$M=257$')\n",
    "plt.title(r\"Fig3: Polynomial interpolation graph of 15 data point\")\n",
    "plt.xlabel('x-values')\n",
    "plt.ylabel(r'$\\bar{y}$')\n",
    "plt.legend()\n",
    "plt.show()"
   ]
  },
  {
   "cell_type": "markdown",
   "metadata": {},
   "source": [
    "**Remark:** Fig3 depicts polynomial interpolation of 15 point data almost in the form of a normal distribution graph, and P(x) passes through all of the points, but it is not completely satisfied because P(x) exhibits large oscillation at the end of the interval, which occurs as a result of an artifact of the interpolation process and is not a reasonable reflection of the data."
   ]
  },
  {
   "cell_type": "markdown",
   "metadata": {},
   "source": [
    "#### Problem 3(d)"
   ]
  },
  {
   "cell_type": "code",
   "execution_count": 216,
   "metadata": {},
   "outputs": [],
   "source": [
    "#Computing Vandermonde matrix and its QR-factorization for problem 4(c) \n",
    "Vm4=Vmd(a=-3,b=3,m=45,n=15)\n",
    "Q4,R4 =Hsd_Trig(Vm4)       #decomposing into QR-factorization\n",
    "#print(\"V =\")\n",
    "#print(Vm4)\n",
    "#print(\"\\n Q =\")\n",
    "#print(Q4)\n",
    "#print(\"\\n R =\")\n",
    "#print(R4)"
   ]
  },
  {
   "cell_type": "code",
   "execution_count": 217,
   "metadata": {},
   "outputs": [
    {
     "name": "stdout",
     "output_type": "stream",
     "text": [
      "\n",
      " The Solution a_bar = [ 9.93883127e-01  1.56624149e-14 -8.78887790e-01 -7.56290273e-14\n",
      "  5.52329021e-01  7.04454861e-14 -2.15408582e-01 -2.79759281e-14\n",
      "  4.98581292e-02  5.40763294e-15 -6.62146681e-03 -5.03165488e-16\n",
      "  4.64300731e-04  1.80521072e-17 -1.32902534e-05]\n"
     ]
    }
   ],
   "source": [
    "#Finding solution of Vm.a = y by computing Y = Q*b and solving R.a=Y for problem 4(c)\n",
    "a=-3;b=3;m=45;n=15\n",
    "temp =np.array(Vm4[:,1]).ravel()\n",
    "ym4_bar = np.array([1/(1+x**2) for x in temp])\n",
    "Y4 = np.matmul(Q4.T,ym4_bar)\n",
    "Y4 = np.array(Y4).ravel()\n",
    "#print(\"Y =\",Y4)\n",
    "R_4 = x = np.delete(R4, range(m-n+1,m), axis=0)  #removing silent rows from R\n",
    "Y4 = Y4[0:n]        #making Y to be in conformable form by rmoving some lower elements\n",
    "a_bar = back_subt(R4, Y4)\n",
    "print(\"\\n The Solution a_bar =\", a_bar)"
   ]
  },
  {
   "cell_type": "markdown",
   "metadata": {},
   "source": [
    "**Notice:** The solution $(\\bar{a}) = [ 9.93883127e-01  1.56624149e-14 -8.78887790e-01 -7.56290273e-14\n",
    "  5.52329021e-01  7.04454861e-14 -2.15408582e-01 -2.79759281e-14\n",
    "  4.98581292e-02  5.40763294e-15 -6.62146681e-03 -5.03165488e-16\n",
    "  4.64300731e-04  1.80521072e-17 -1.32902534e-05]$"
   ]
  },
  {
   "cell_type": "code",
   "execution_count": 218,
   "metadata": {},
   "outputs": [],
   "source": [
    "#Considering when M=257 for problem 3(d)\n",
    "VM4=Vmd(a=-3,b=3,m=257,n=15)\n",
    "yM4_bar=np.matmul(VM4,a_bar)\n",
    "yM4_bar=np.array(yM4_bar).ravel()"
   ]
  },
  {
   "cell_type": "code",
   "execution_count": 219,
   "metadata": {},
   "outputs": [
    {
     "data": {
      "image/png": "[encoded data removed]",
      "text/plain": [
       "<Figure size 432x288 with 1 Axes>"
      ]
     },
     "metadata": {
      "needs_background": "light"
     },
     "output_type": "display_data"
    }
   ],
   "source": [
    "#Ploting \n",
    "a=-3;b=3;m=45;n=15; M=257\n",
    "xm4 = np.linspace(a,b,m)\n",
    "xM4 = np.linspace(a,b,M)\n",
    "plt.plot(xm4,ym4_bar, 'bo', color='y', label=r'$m=45$')\n",
    "plt.plot(xM4,yM4_bar,label=r'$M=257$')\n",
    "plt.title(r\"Fig4: Polynomial interpolation graph of 45 data point\")\n",
    "plt.xlabel('x-values')\n",
    "plt.ylabel(r'$\\bar{y}$')\n",
    "plt.legend()\n",
    "plt.show()"
   ]
  },
  {
   "cell_type": "markdown",
   "metadata": {},
   "source": [
    "**Remark:** the fig4 displays polynomial interpolation of 45 point data in form of normal distribution graph and P(x) passes through all the point which is satisfied depicted interpolation of the given point"
   ]
  },
  {
   "cell_type": "markdown",
   "metadata": {},
   "source": [
    "**Observation:** In fig3 and fig4, we observed that both polynomials passes through the points in form of normal distribution graph. But in fig3, P(x) exhibits large oscilation at the ends of interval which is a result of its interpolation process but it is fine in fig4. Moreover, fig4 well depicts normal distribution graph."
   ]
  },
  {
   "cell_type": "code",
   "execution_count": null,
   "metadata": {},
   "outputs": [],
   "source": []
  }
 ],
 "metadata": {
  "kernelspec": {
   "display_name": "Python 3 (ipykernel)",
   "language": "python",
   "name": "python3"
  },
  "language_info": {
   "codemirror_mode": {
    "name": "ipython",
    "version": 3
   },
   "file_extension": ".py",
   "mimetype": "text/x-python",
   "name": "python",
   "nbconvert_exporter": "python",
   "pygments_lexer": "ipython3",
   "version": "3.11.5"
  }
 },
 "nbformat": 4,
 "nbformat_minor": 4
}
