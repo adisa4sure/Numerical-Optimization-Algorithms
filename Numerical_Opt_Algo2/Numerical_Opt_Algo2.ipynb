{
 "cells": [
  {
   "cell_type": "markdown",
   "id": "0443ac60",
   "metadata": {},
   "source": [
    "### 18) Problems and exercises\n",
    "1. Consider a function $H_2(x, y):=\\exp (8 x-13 y+21)+\\exp (21 y-13 x-34)+0.0001 \\exp (x+y)$. Is it convex/strictly convex? Minimize it, i.e., find $\\left(x_*, y_*\\right)=\\arg \\min _{(x, y)} H_2(x, y)$.\n",
    "2. Minimize a function $J_2(x, y):=3 x y-2 y+1000\\left(x^2+y^2-1.1\\right) \\exp \\left(10\\left(x^2+y^2-1\\right)\\right)$.\n",
    "3. Consider a 99 -dimensional vector $x$ with components $x_1, x_2, \\ldots, x_{99}$. For convenience, the dummy components $x_0=-1$ and $x_{100}=1$ are introduced, but $x_0$ and $x_{100}$ are not variables in the\n",
    "11\n",
    "optimization problem below. Minimize a function\n",
    "$$\n",
    "E_{99}(\\boldsymbol{x}):=\\frac{1}{2} \\sum_{i=0}^{99}\\left(x_{i+1}-x_i\\right)^2+\\frac{1}{16} \\sum_{i=1}^{99}\\left(1-x_i^2\\right)^2, \\quad \\boldsymbol{x}_*=\\underset{\\boldsymbol{x}}{\\arg \\min } E_{99}(\\boldsymbol{x})\n",
    "$$\n",
    "Find $E_{99}\\left(\\boldsymbol{x}_*\\right)$. Plot the vector $\\boldsymbol{x}_*$ (how the component $x_{* i}, 0 \\leq i \\leq 100$, changes with $i$ ).\n",
    "4. A howitzer is positioned at $(x, y)=(0,0)$ and can shoot projectiles with initial speed 10 and any shooting angle $\\theta$. The equations of projectile motion are $$ \\frac{\\mathrm{d}}{\\mathrm{d} t}\\left[\\begin{array}{l}x \\\\ y\\end{array}\\right]=\\left[\\begin{array}{l}u \\\\ v\\end{array}\\right], \\quad \\frac{\\mathrm{d}}{\\mathrm{d} t}\\left[\\begin{array}{l}u \\\\ v\\end{array}\\right]=\\left[\\begin{array}{r}0 \\\\ -1\\end{array}\\right]-\\sqrt{u^2+v^2}\\left[\\begin{array}{l}u \\\\ v\\end{array}\\right], \\quad\\left[\\begin{array}{l}x(0) \\\\ y(0) \\\\ u(0) \\\\ v(0)\\end{array}\\right]=\\left[\\begin{array}{c}0 \\\\ 0 \\\\ 10 \\cos \\theta \\\\ 10 \\sin \\theta\\end{array}\\right] $$ ind the howitzer's maximal firing range, i.e., maximize $f_2(\\theta)=x(T)$, where $T>0$ and $y(T)=0$."
   ]
  },
  {
   "cell_type": "code",
   "execution_count": 1,
   "id": "5411c3a9",
   "metadata": {},
   "outputs": [],
   "source": [
    "#importing all the necessary packages\n",
    "import numpy as np\n",
    "from matplotlib import pyplot as plt\n",
    "from numpy import linalg as LA\n",
    "from numpy.linalg import inv"
   ]
  },
  {
   "cell_type": "markdown",
   "id": "49f6eac2",
   "metadata": {},
   "source": [
    "#### Newton-Raphon Method\n",
    "Pure newton method\n",
    "$$\n",
    "\\boldsymbol{x} \\longmapsto \\boldsymbol{x}-\\left(\\nabla^2 f\\right)^{-1} \\nabla f\n",
    "$$\n"
   ]
  },
  {
   "cell_type": "code",
   "execution_count": 2,
   "id": "9ffd5010",
   "metadata": {},
   "outputs": [],
   "source": [
    "def pure_newton(f, df, Hf, x0, a=0.3, b=.9, st=10000):\n",
    "    \"\"\"\n",
    "    Pure newton Method for finding optimium values\n",
    "    \"\"\"\n",
    "    t=1; alpha=a; beta=b\n",
    "    x=x0; x_tab=np.copy(x)\n",
    "    F=f; dF=df; HF=Hf\n",
    "    stop=st; counter=0\n",
    "    # Stoping criterial\n",
    "    while (((LA.norm(df(x)))>= 1e-8) and counter < stop):\n",
    "        # Picking direction: gradient descent\n",
    "        dx = -np.linalg.solve(HF(x),dF(x))   #(np.matmul((inv(HF(x))),dF(x)))\n",
    "        # Update x\n",
    "        x = x + dx\n",
    "        x_tab = np.vstack((x_tab,x))\n",
    "        counter +=1\n",
    "    print(\"x_min =\",x,\"\\t\", \"f(x_min) =\",F(x),\"\\t no_iter =\",counter)\n",
    "    return x, x_tab"
   ]
  },
  {
   "cell_type": "markdown",
   "id": "e55cb26f",
   "metadata": {},
   "source": [
    "In order to improve the realiability of the pure Newton method, ...\\\n",
    "Damped Newton method: $\\boldsymbol{x} \\longmapsto \\boldsymbol{x}-t\\left(\\nabla^2 f\\right)^{-1} \\nabla f$, where $t$ is obtained from line search."
   ]
  },
  {
   "cell_type": "code",
   "execution_count": 3,
   "id": "29b1a6cf",
   "metadata": {},
   "outputs": [],
   "source": [
    "def damped_newton(f, df, Hf, x0, a=0.25, b=0.5, st=10000):\n",
    "    \"\"\"\n",
    "    Damped newton method for finding optimum values\n",
    "    \"\"\"\n",
    "    t=1; alpha=a; beta=b\n",
    "    x=x0; x_tab=np.copy(x)\n",
    "    F=f; dF=df; HF=Hf\n",
    "    stop=st; counter2=0\n",
    "    # Stoping criterial\n",
    "    while (((LA.norm(df(x)))>= 1e-8) and counter2 < stop):\n",
    "        # Picking direction: gradient descent\n",
    "        dx = -np.linalg.solve(HF(x),dF(x))   #(np.matmul((inv(HF(x))),dF(x)))\n",
    "        # Line search : backtracking\n",
    "        while F(x+t*dx)>= (F(x)+alpha*t*np.dot(dF(x),dx)):\n",
    "            t =t*beta\n",
    "        # Update x\n",
    "        x = x + t*dx\n",
    "        x_tab = np.vstack((x_tab,x))\n",
    "        counter2 +=1\n",
    "    print(\"x_min =\",x,\"\\t\", \"f(x_min) =\",F(x),\"\\t no_iter =\",counter2)\n",
    "    return x, x_tab"
   ]
  },
  {
   "cell_type": "markdown",
   "id": "0eb4586a",
   "metadata": {},
   "source": [
    "#### BGFS Algorithm\n",
    "Algorithm BFGS (Broyden-Fletcher-Goldfarb-Shanno algorithm): Quasi-Newton algorithm with low rank updates of the Hessian approximation at each step.\\\n",
    "\\\n",
    "start with $k=0$, some initial guess $\\boldsymbol{x}_0$ and $\\hat{C}_0$ (e.g., $\\left.\\hat{C}_0=\\hat{I}\\right)$\\\n",
    "while $\\left(\\left\\|\\nabla f\\left(\\boldsymbol{x}_k\\right)\\right\\|>\\varepsilon\\right)$ do\\\n",
    "$\\quad$ pick direction $\\Delta \\boldsymbol{x}_k:=-\\hat{C}_k \\nabla f\\left(\\boldsymbol{x}_k\\right)$\\\n",
    "$\\quad$line search: choose step size $t$\\\n",
    "$\\quad \\quad \\quad \\quad \\quad $backtracking line search: start with some not too small $t$, then reduce $t$\\\n",
    "$\\quad \\quad \\quad \\quad \\quad $(e.g., $t \\leftarrow \\beta t)$\\ until $f\\left(\\boldsymbol{x}_k+t \\Delta \\boldsymbol{x}_k\\right)<f\\left(\\boldsymbol{x}_k\\right)+\\alpha \\nabla f\\left(\\boldsymbol{x}_k\\right) \\cdot\\left(t \\Delta \\boldsymbol{x}_k\\right), 0 \\leq \\alpha<1$\\\n",
    "$\\quad$update: $\\boldsymbol{x}_{k+1}:=\\boldsymbol{x}_k+\\left(\\boldsymbol{d}_k:=t \\Delta \\boldsymbol{x}_k\\right)$\n",
    "$$\n",
    "\\begin{aligned}\n",
    "& \\boldsymbol{g}_k:=\\nabla f\\left(\\boldsymbol{x}_{k+1}\\right)-\\nabla f\\left(\\boldsymbol{x}_k\\right) \\\\\n",
    "& \\hat{C}_{k+1}:=\\left(\\hat{I}-\\frac{\\boldsymbol{d}_k \\boldsymbol{g}_k^{\\mathrm{T}}}{\\boldsymbol{g}_k^{\\mathrm{T}} \\boldsymbol{d}_k}\\right) \\hat{C}_k\\left(\\hat{I}-\\frac{\\boldsymbol{g}_k \\boldsymbol{d}_k^{\\mathrm{T}}}{\\boldsymbol{g}_k^{\\mathrm{T}} \\boldsymbol{d}_k}\\right)+\\frac{\\boldsymbol{d}_k \\boldsymbol{d}_k^{\\mathrm{T}}}{\\boldsymbol{g}_k^{\\mathrm{T}} \\boldsymbol{d}_k}\n",
    "\\end{aligned}\n",
    "$$\n",
    "$\\quad$ $k \\leftarrow k+1$\\\n",
    "$\\text { return } \\boldsymbol{x}_{\\text {last }}$"
   ]
  },
  {
   "cell_type": "code",
   "execution_count": 4,
   "id": "4bde9a12",
   "metadata": {},
   "outputs": [],
   "source": [
    "def BGFS(f, df, x0, st=1000):\n",
    "    x=x0; stop = st\n",
    "    F = f(x); dF = df(x); counter = 0\n",
    "    C = np.eye(len(x)); x_tab = np.copy(x)\n",
    "    x_old= np.array([100,100])\n",
    "    while (LA.norm(dF)>1e-15) and counter < stop:\n",
    "        d = -np.matmul(C,dF)\n",
    "        while (f(x+d)>=F):\n",
    "            d=d/2\n",
    "            if (LA.norm(d)<1.11e-16):\n",
    "                C = np.eye(len(x))\n",
    "                d = -dF\n",
    "        x_old = x\n",
    "        x = x+d; F=f(x); x_tab = np.vstack((x_tab,x))\n",
    "        counter += 1\n",
    "        new_dF = df(x); g = new_dF - dF; dF = new_dF\n",
    "        rho = 1/(np.matmul(g.T,d))\n",
    "        temp = np.matmul(np.matmul(g.T,C),g)\n",
    "        mu = rho*(1+rho*temp)\n",
    "        C = C - rho*(np.matmul(d,np.matmul(g.T,C))+np.matmul(np.matmul(C,g),d.T)) + mu*(np.matmul(d,d.T))\n",
    "    print(\"x_min =\",x,\"\\t\", \"f(x_min) =\",F,\"\\t no_iter =\",counter)\n",
    "    return x, x_tab"
   ]
  },
  {
   "cell_type": "markdown",
   "id": "2a5c775b",
   "metadata": {},
   "source": [
    "#### 18.1(a)"
   ]
  },
  {
   "cell_type": "code",
   "execution_count": 5,
   "id": "0555e344",
   "metadata": {},
   "outputs": [],
   "source": [
    "##### Function definition\n",
    "def H(X):\n",
    "\tx = X[0]\n",
    "\ty = X[1]\n",
    "\tfac1 = np.exp(8*x - 13*y + 21)\n",
    "\tfac2 = np.exp(21*y - 13*x - 34)\n",
    "\tfac3 = 0.0001*np.exp(x+y)\n",
    "\tfunc = fac1 + fac2 + fac3\n",
    "\treturn func\n",
    "\n",
    "def dH(X):\n",
    "    x = X[0]\n",
    "    y = X[1]\n",
    "    fac1 = np.exp(8*x - 13*y + 21)\n",
    "    fac2 = np.exp(21*y - 13*x - 34)\n",
    "    fac3 = 0.0001*np.exp(x+y)\n",
    "    g_func = np.array([8*fac1-13*fac2+fac3, -13*fac1+21*fac2+fac3])\n",
    "    return g_func\n",
    "\n",
    "def d2H(X):\n",
    "    x = X[0]\n",
    "    y = X[1]\n",
    "    fac1 = np.exp(8*x - 13*y + 21)\n",
    "    fac2 = np.exp(21*y - 13*x - 34)\n",
    "    fac3 = 0.0001*np.exp(x+y)\n",
    "    H_func = np.array([[64*fac1+169*fac2+fac3, -104*fac1-273*fac2+fac3],\\\n",
    "                       [-104*fac1-273*fac2+fac3, 169*fac1+441*fac2+fac3]])\n",
    "    return H_func\n",
    "    "
   ]
  },
  {
   "cell_type": "code",
   "execution_count": 6,
   "id": "5e5454d8",
   "metadata": {},
   "outputs": [
    {
     "name": "stdout",
     "output_type": "stream",
     "text": [
      "x_min = [2.57144729 3.1917222 ] \t f(x_min) = 1.7827922385651283 \t no_iter = 18\n"
     ]
    }
   ],
   "source": [
    "# Using pure Newton method\n",
    "x0      = np.array( (1.0,1.2 ) )\n",
    "x, x_tab=pure_newton(f=H, df=dH, Hf=d2H, x0=x0)"
   ]
  },
  {
   "cell_type": "code",
   "execution_count": 7,
   "id": "6ce6be39",
   "metadata": {},
   "outputs": [
    {
     "name": "stdout",
     "output_type": "stream",
     "text": [
      "x_min = [2.57144729 3.1917222 ] \t f(x_min) = 1.7827922385651283 \t no_iter = 18\n"
     ]
    }
   ],
   "source": [
    "# Using damped Newton method\n",
    "x0      = np.array( (1.0,1.2) )\n",
    "x_damped, x_tab_damped = damped_newton(f=H, df=dH, Hf=d2H, x0=x0, a=0.2, b=0.5)"
   ]
  },
  {
   "cell_type": "markdown",
   "id": "32d16b10",
   "metadata": {},
   "source": [
    "**Result:** At point $(2.57144729, 3.1917222)$ the function achieves its minuimum value of $1.7827922385651283$ with 18 steps using both Newton method."
   ]
  },
  {
   "cell_type": "markdown",
   "id": "244ee56b",
   "metadata": {},
   "source": [
    "#### 18.1(b)\n",
    "By the virtue of the theorem which says:\\\n",
    " \\\"Let function $f: \\mathbb{R}^n \\rightarrow \\mathbb{R}$ has smooth gradient. Then $f$ is convex iff\n",
    "$$\n",
    "\\forall x: \\quad \\nabla^2 f(x) \\succeq 0,\n",
    "$$\n",
    "that is the Hessian of the function is a positive semi-definite matrix at any point. (Remind that real symmetric $n \\times n$ matrix $H$ is positive semi-definite iff $x^T H x \\geq 0$ for any $x \\in \\mathbb{R}^n$.) Which is actually true for the given function when computed. Hence, $H_2(x,y)$ is convex function."
   ]
  },
  {
   "cell_type": "code",
   "execution_count": null,
   "id": "1716f778",
   "metadata": {},
   "outputs": [],
   "source": []
  },
  {
   "cell_type": "markdown",
   "id": "c453acaa",
   "metadata": {},
   "source": [
    "#### 18.2)"
   ]
  },
  {
   "cell_type": "code",
   "execution_count": 8,
   "id": "16a270e5",
   "metadata": {},
   "outputs": [],
   "source": [
    "# function and its gradient\n",
    "def J2(X):\n",
    "    x = X[0]\n",
    "    y = X[1]\n",
    "    fac1 = np.exp(10*(x**2+y**2-1))\n",
    "    fac2 = x**2 +y**2-1.1\n",
    "    func = 3*x*y - 2*y + 1000*fac2*fac1\n",
    "    return func\n",
    "\n",
    "def dJ2(X):\n",
    "    x = X[0]\n",
    "    y = X[1]\n",
    "    fac1 = np.exp(10*(x**2+y**2-1))\n",
    "    fac2 = x**2 +y**2-1.1\n",
    "    func =np.array([3*y + 20000*x*fac2*fac1+ 2000*x*fac1, 3*x-2+20000*y*fac1*fac2+2000*y*fac1])\n",
    "    return func"
   ]
  },
  {
   "cell_type": "code",
   "execution_count": 9,
   "id": "ede19367",
   "metadata": {},
   "outputs": [
    {
     "name": "stderr",
     "output_type": "stream",
     "text": [
      "/tmp/ipykernel_23514/3563778648.py:5: RuntimeWarning: overflow encountered in exp\n",
      "  fac1 = np.exp(10*(x**2+y**2-1))\n",
      "/tmp/ipykernel_23514/3563778648.py:7: RuntimeWarning: overflow encountered in double_scalars\n",
      "  func = 3*x*y - 2*y + 1000*fac2*fac1\n"
     ]
    },
    {
     "name": "stdout",
     "output_type": "stream",
     "text": [
      "x_min = [-0.55989649  0.82869624] \t f(x_min) = -103.04909907065492 \t no_iter = 1000\n"
     ]
    }
   ],
   "source": [
    "# Using BGFS Algorithm\n",
    "x= np.array([-0.5,0.06])\n",
    "x, x_tab = BGFS(f=J2, df=dJ2, x0=x)"
   ]
  },
  {
   "cell_type": "markdown",
   "id": "6a65137f",
   "metadata": {},
   "source": [
    "**Result:** At point $(-0.55989649, 0.82869624)$ the function achieves its minuimum value of $-103.04909907065492$ with 1000 steps using BGFS algorithms. We observed that the loop seems not terminating by the norm threshold but by the set number of iteration."
   ]
  },
  {
   "cell_type": "code",
   "execution_count": null,
   "id": "1c1a3d1f",
   "metadata": {},
   "outputs": [],
   "source": []
  },
  {
   "cell_type": "markdown",
   "id": "b783a707",
   "metadata": {},
   "source": [
    "### 18.3\n",
    "Given\n",
    "$$\n",
    "\\begin{aligned}\n",
    "E_{99}(\\bar{x}) & :=\\frac{1}{2} \\sum_{i=0}^{99}\\left(x_{i+1}-x_i\\right)^2+\\frac{1}{16} \\sum_{i=1}^{99}\\left(1-x_i^2\\right)^2, \\text{ find } x_* =\\underset{x}{\\arg \\min E_{99}(x)}\n",
    "\\end{aligned}\n",
    "$$\n",
    "Then the grad of x_j is\n",
    "$$\n",
    "\\begin{aligned}\n",
    "\\partial_{x_j} E_{99}(x) & =\\partial_{x_j}\\left(\\frac{1}{2}\\left(x_j-x_{j-1}\\right)^2\\right)+\\partial_{x_j}\\left(\\frac{1}{2}\\left(x_{j+1}-x_j\\right)^2 +\\frac{1}{16}\\left(1-x_j^2\\right)^2\\right) \\\\\n",
    "& =-\\left(x_{j+1}-2 x_j+x_{j-1}\\right)-\\frac{1}{4} x_j\\left(1-x_j^2\\right)\n",
    "\\end{aligned}\n",
    "$$"
   ]
  },
  {
   "cell_type": "code",
   "execution_count": 10,
   "id": "9ca24ee8",
   "metadata": {},
   "outputs": [],
   "source": [
    "# function and its gardient\n",
    "def E99(X):\n",
    "    x = X; N = len(x)\n",
    "    F = 0.5*(x[1]-x[0])**2\n",
    "    for i in range(1, N-1):\n",
    "        F += 0.5*(x[i+1]-x[i])**2 + (1/16)*(1-(x[i])**2)**2\n",
    "    return F\n",
    "\n",
    "def dE99(X):\n",
    "    x = X\n",
    "    n = len(x)\n",
    "    jac = np.array([-(x[j+1]-2*x[j]+x[j-1])-(1/4)*x[j]*(1-(x[j])**2) for j in range(1,n-1)])\n",
    "    return jac\n"
   ]
  },
  {
   "cell_type": "code",
   "execution_count": 11,
   "id": "7c6484df",
   "metadata": {},
   "outputs": [],
   "source": [
    "# We need to change a parameter(x) range here in order to accommodates the given function\n",
    "def BGFS2(f, df, x0, st=1000):\n",
    "    x=x0; stop = st\n",
    "    x2 = x[1:-1]\n",
    "    #print(len(x2))\n",
    "    F = f(x2); dF = df(x); counter = 0\n",
    "    C = np.eye(len(x2)); x_tab = np.copy(x2)\n",
    "    x_old= np.array([100,100])\n",
    "    while (LA.norm(dF)>1e-15) and counter < stop:\n",
    "        d = -np.matmul(C,dF)\n",
    "        while (f(x2+d)>=F):\n",
    "            d=d/2\n",
    "            if (LA.norm(d)<1.11e-16):\n",
    "                C = np.eye(len(x2))\n",
    "                d = -dF\n",
    "        x_old = x2\n",
    "        x2 = x2+d; x = np.append(np.insert(x2,0,-1),1); F=f(x2); x_tab = np.vstack((x_tab,x2))\n",
    "        counter += 1\n",
    "        new_dF = df(x); g = new_dF - dF; dF = new_dF\n",
    "        rho = 1/(np.matmul(g.T,d))\n",
    "        temp = np.matmul(np.matmul(g.T,C),g)\n",
    "        mu = rho*(1+rho*temp)\n",
    "        C = C - rho*(np.matmul(d,np.matmul(g.T,C))+np.matmul(np.matmul(C,g),d.T)) + mu*(np.matmul(d,d.T))\n",
    "    print(\"x_min =\",x,\"\\n\\n\", \"f(x_min) =\",F,\"\\t no_iter =\",counter)\n",
    "    return x2, x_tab"
   ]
  },
  {
   "cell_type": "code",
   "execution_count": 12,
   "id": "b4ed8c7a",
   "metadata": {},
   "outputs": [
    {
     "name": "stdout",
     "output_type": "stream",
     "text": [
      "x_min = [-1.         -0.99999982 -1.00000037 -0.9999995  -1.00000066 -0.99999924\n",
      " -1.00000088 -0.99999907 -1.00000098 -0.99999903 -1.00000097 -0.99999908\n",
      " -1.00000089 -0.99999919 -1.00000075 -0.99999935 -1.00000059 -0.99999951\n",
      " -1.00000043 -0.99999966 -1.00000029 -0.99999977 -1.00000018 -0.99999985\n",
      " -1.00000008 -0.99999986 -0.99999993 -0.9999997  -0.9999995  -0.99999892\n",
      " -0.99999788 -0.99999573 -0.99999149 -0.99998297 -0.99996597 -0.99993196\n",
      " -0.99986396 -0.999728   -0.99945614 -0.99891267 -0.99782653 -0.99565737\n",
      " -0.99133128 -0.98272737 -0.96571012 -0.93242039 -0.86868991 -0.75167134\n",
      " -0.5529118  -0.25818353  0.09678733  0.42778834  0.67141507  0.82285769\n",
      "  0.90787542  0.95300169  0.9762603   0.988069    0.99401896  0.99700547\n",
      "  0.99850166  0.9992505   0.99962513  0.99981251  0.99990622  0.99995308\n",
      "  0.99997652  0.99998825  0.99999411  0.99999705  0.99999852  0.99999925\n",
      "  0.99999962  0.9999998   0.9999999   0.99999993  0.99999998  0.99999996\n",
      "  1.          0.99999996  1.00000002  0.99999995  1.00000003  0.99999994\n",
      "  1.00000005  0.99999993  1.00000006  0.99999991  1.00000007  0.99999991\n",
      "  1.00000007  0.99999991  1.00000007  0.99999992  1.00000005  0.99999993\n",
      "  1.00000004  0.99999995  1.00000001  0.99999999  1.        ] \n",
      "\n",
      " f(x_min) = 0.4694066360341278 \t no_iter = 300\n"
     ]
    }
   ],
   "source": [
    "# Using BGFS Algorithm\n",
    "x = np.linspace(-1,1,101)\n",
    "x, x_tab = BGFS2(f=E99, df=dE99, x0=x, st=300)"
   ]
  },
  {
   "cell_type": "code",
   "execution_count": 13,
   "id": "5f8699b9",
   "metadata": {},
   "outputs": [
    {
     "name": "stderr",
     "output_type": "stream",
     "text": [
      "No artists with labels found to put in legend.  Note that artists whose label start with an underscore are ignored when legend() is called with no argument.\n"
     ]
    },
    {
     "data": {
      "text/plain": [
       "<matplotlib.legend.Legend at 0x7f4ea22eab30>"
      ]
     },
     "execution_count": 13,
     "metadata": {},
     "output_type": "execute_result"
    },
    {
     "data": {
      "image/png": "[encoded data removed]",
      "text/plain": [
       "<Figure size 432x288 with 1 Axes>"
      ]
     },
     "metadata": {
      "needs_background": "light"
     },
     "output_type": "display_data"
    }
   ],
   "source": [
    "#The plot of x_minimum\n",
    "plt.plot(x)\n",
    "plt.title(\"The plot of minimum point\")\n",
    "plt.xlabel(\"i\")\n",
    "plt.ylabel(r\"X_min\")\n",
    "plt.legend()"
   ]
  },
  {
   "cell_type": "markdown",
   "id": "9e94ec15",
   "metadata": {},
   "source": [
    "**Result:** At point x_min (as it appears in the above outcome), which appears as sigmoid function on the graph. Then, the function achieves its minuimum value of $0.4694066360341278$ with 300 steps using BGFS algorithms."
   ]
  },
  {
   "cell_type": "code",
   "execution_count": null,
   "id": "cb90fb7a",
   "metadata": {},
   "outputs": [],
   "source": []
  },
  {
   "cell_type": "markdown",
   "id": "62e6f85a",
   "metadata": {},
   "source": [
    "#### 18.4"
   ]
  },
  {
   "cell_type": "code",
   "execution_count": 14,
   "id": "7e363122",
   "metadata": {},
   "outputs": [],
   "source": [
    "def f2(x):\n",
    "    u = x[2]; v = x[3]\n",
    "    V = np.sqrt(u**2 + v**2)\n",
    "    return np.array([u, v, -u * V, -v * V - 1.])"
   ]
  },
  {
   "cell_type": "code",
   "execution_count": 15,
   "id": "25463ee9",
   "metadata": {},
   "outputs": [],
   "source": [
    "def F2(theta):\n",
    "    theta = theta\n",
    "    x = [0., 0., 10. * np.cos(theta), 10. * np.sin(theta)]\n",
    "    h = 0.0001\n",
    "    while (h > 1.e-20):\n",
    "        k1 = h * f2(x)\n",
    "        k2 = h * f2(x + 0.5 * k1)\n",
    "        k3 = h * f2(x + 0.5 * k2)\n",
    "        k4 = h * f2(x + k3)\n",
    "        y = x + (k1 + 2. * k2 + 2. * k3 + k4) / 6.\n",
    "        if (y[1] < 0.):\n",
    "            h *= 0.5\n",
    "        else:\n",
    "            x = y\n",
    "    return (x[0])"
   ]
  },
  {
   "cell_type": "code",
   "execution_count": 16,
   "id": "8dd21d05",
   "metadata": {},
   "outputs": [],
   "source": [
    "# pure Newton Method in one dimensional\n",
    "def pure_Newton_Raphson(f, x0):\n",
    "    delta = np.sqrt(np.finfo(float).eps)\n",
    "    xold = x0\n",
    "    x = xold\n",
    "    xold = xold + 1.\n",
    "    while (abs(x - xold) > 1e-8):\n",
    "        xold = x\n",
    "        fxold = -f(xold)\n",
    "        x = xold\n",
    "        x1 = x + delta\n",
    "        x2 = x - delta\n",
    "        x3 = x + 2*delta\n",
    "        x4 = x - 2*delta\n",
    "        dfdx = (f(x1) - fxold)/delta\n",
    "        d2fdx2 = (f(x2) - 2*fxold+f(x1)) / delta**2\n",
    "        #dfdx = (-f(x3) +16*f(x1) -30*fxold + 16*f(x2) -f(x4))/ (12*delta**2)\n",
    "        x = xold + dfdx/d2fdx2\n",
    "    return x, f(x)"
   ]
  },
  {
   "cell_type": "code",
   "execution_count": 17,
   "id": "8caf86bd",
   "metadata": {},
   "outputs": [
    {
     "data": {
      "text/plain": [
       "(0.5000000074505806, 2.887274282146324)"
      ]
     },
     "execution_count": 17,
     "metadata": {},
     "output_type": "execute_result"
    }
   ],
   "source": [
    "pure_Newton_Raphson(F2, .5)"
   ]
  },
  {
   "cell_type": "markdown",
   "id": "22ab8d60",
   "metadata": {},
   "source": [
    "**Result:** From the above outcome we found maximum firing range to be $2.887274282146324$ at angle $\\theta = 0.5000000074505806$"
   ]
  },
  {
   "cell_type": "code",
   "execution_count": null,
   "id": "801096fc",
   "metadata": {},
   "outputs": [],
   "source": []
  },
  {
   "cell_type": "code",
   "execution_count": null,
   "id": "c882b00e",
   "metadata": {},
   "outputs": [],
   "source": []
  }
 ],
 "metadata": {
  "kernelspec": {
   "display_name": "Python 3 (ipykernel)",
   "language": "python",
   "name": "python3"
  },
  "language_info": {
   "codemirror_mode": {
    "name": "ipython",
    "version": 3
   },
   "file_extension": ".py",
   "mimetype": "text/x-python",
   "name": "python",
   "nbconvert_exporter": "python",
   "pygments_lexer": "ipython3",
   "version": "3.10.6"
  }
 },
 "nbformat": 4,
 "nbformat_minor": 5
}
