{
 "cells": [
  {
   "cell_type": "markdown",
   "id": "7ebeed35",
   "metadata": {},
   "source": [
    "## Saheed Adisa Ganiyu"
   ]
  },
  {
   "cell_type": "code",
   "execution_count": 1,
   "id": "a4a0e301",
   "metadata": {},
   "outputs": [],
   "source": [
    "#importing all the necessary packages\n",
    "import numpy as np\n",
    "from matplotlib import pyplot as plt\n",
    "from numpy import linalg as LA\n",
    "from numpy.linalg import inv"
   ]
  },
  {
   "cell_type": "markdown",
   "id": "2e18ab4a",
   "metadata": {},
   "source": [
    "**1.** Minimize\n",
    "\n",
    "$$f_1(x,\\mkern1mu y,\\mkern1mu z) = \\exp(13 x + 21 y - 34 z) + \\exp(-21 x \n",
    "- 34 y + 55 z) + \\bigl( \\exp(2 y + z) + \\exp(-2 x - z) \\bigr) / 1000$$"
   ]
  },
  {
   "cell_type": "code",
   "execution_count": 2,
   "id": "e9f85a20",
   "metadata": {},
   "outputs": [],
   "source": [
    "# Damped newton method\n",
    "def damped_newton1(f, df, Hf, x0, a=0.25, b=0.5, st=1000):\n",
    "    \"\"\"\n",
    "    Damped newton method for finding optimum values\n",
    "    \"\"\"\n",
    "    t=1; alpha=a; beta=b\n",
    "    x=x0; x_tab=np.copy(x)\n",
    "    F=f; dF=df; HF=Hf\n",
    "    stop=st; counter2=0\n",
    "    eps=np.finfo(float).eps\n",
    "    # Stoping criterial\n",
    "    while (((LA.norm(df(x)))>= 1e-10) and counter2 < stop):\n",
    "        # Picking direction: gradient descent\n",
    "        dx = -np.linalg.solve(HF(x),dF(x))\n",
    "        if np.dot(dx,dF(x))>0:\n",
    "            dx=-t*dx\n",
    "        flag = 0\n",
    "        # Line search : backtracking\n",
    "        while (F(x+dx)>= (F(x)+alpha*np.dot(dF(x),dx))):\n",
    "            dx =dx*beta\n",
    "            if (LA.norm(dx)< np.finfo(float).eps):\n",
    "                if (flag==1):\n",
    "                    break\n",
    "                dx = -dF(x); flag=1\n",
    "        # Update x\n",
    "        x = x + dx\n",
    "        x_tab = np.vstack((x_tab,x))\n",
    "        counter2 +=1\n",
    "    print(\"x_min =\",x,\"\\t\", \"f(min) =\",F(x),\"\\t no_iter =\",counter2)\n",
    "    return x, x_tab"
   ]
  },
  {
   "cell_type": "code",
   "execution_count": 3,
   "id": "f3e4ca9f",
   "metadata": {},
   "outputs": [],
   "source": [
    "# BFGS method \n",
    "def BFGS1(f, df, x0, st=1000):\n",
    "    x=x0; stop = st\n",
    "    F = f(x); dF = df(x) \n",
    "    counter = 0\n",
    "    C = np.eye(len(x)); x_tab = np.copy(x)\n",
    "    x_old= np.array([100,100])\n",
    "    while (LA.norm(dF)>1.e-10) and counter < stop:\n",
    "        #print(LA.norm(dF))\n",
    "        d = -np.matmul(C,dF)\n",
    "        #print(np.dot(d,dF))\n",
    "        if np.dot(d,dF)>0:\n",
    "            d = -d\n",
    "        while (f(x+d)>=F):\n",
    "            d=0.9*d\n",
    "            if (LA.norm(d)<1.11e-16):\n",
    "                C = np.eye(len(x))\n",
    "                d = -dF\n",
    "                #print(counter)\n",
    "        x_old = x\n",
    "        x = x+d; F=f(x); x_tab = np.vstack((x_tab,x))\n",
    "        counter += 1\n",
    "        new_dF = df(x); g = new_dF - dF; dF = new_dF; I = np.eye(len(x)) \n",
    "        rho = 1/(np.matmul(g.T,d))\n",
    "        tempA1 = np.outer(d,g); tempA2 = np.outer(g,d); tempA3 = np.outer(d,d)\n",
    "        tempB1 = I - tempA1*rho; tempB2 = I - tempA2*rho; tempB3 = tempA3*rho;\n",
    "        C = tempB1@C@tempB2 + tempB3\n",
    "    print(\"x_min =\",x,\"\\t\", \"f(x_opt) =\",f(x),\"\\t no_iter =\",counter)\n",
    "    return x, x_tab"
   ]
  },
  {
   "cell_type": "code",
   "execution_count": 4,
   "id": "c0a029a8",
   "metadata": {},
   "outputs": [],
   "source": [
    "# function definition\n",
    "def f1(X):\n",
    "    x = X[0]\n",
    "    y = X[1]\n",
    "    z = X[2]\n",
    "    fac1 = np.exp(13*x - 21*y - 34*z)\n",
    "    fac2 = np.exp(-21*x - 34*y + 55*z)\n",
    "    fac3 = np.exp(2*y + z) + np.exp(-2*x - z)\n",
    "    func = fac1 + fac2 + fac3/1000\n",
    "    return func\n",
    "\n",
    "# gradient definition\n",
    "def df1(X):\n",
    "    x = X[0]\n",
    "    y = X[1]\n",
    "    z = X[2]\n",
    "    fac1 = np.exp(13*x - 21*y - 34*z)\n",
    "    fac2 = np.exp(-21*x - 34*y + 55*z)\n",
    "    fac3 = np.exp(2*y + z)\n",
    "    fac4 = np.exp(-2*x - z)\n",
    "    fx = 13*fac1 - 1/500*fac4 - 21*fac2\n",
    "    fy = -21*fac1 - 34*fac2 + 1/500*fac3\n",
    "    fz = -34*fac1 - 1/1000*fac4 + 55*fac2 + 1/1000*fac3\n",
    "    df = np.array([fx,fy,fz])\n",
    "    return df\n",
    "\n",
    "# Hessian Matrix\n",
    "def Hf1(X):\n",
    "    x = X[0]\n",
    "    y = X[1]\n",
    "    z = X[2]\n",
    "    fac1 = np.exp(13*x - 21*y - 34*z)\n",
    "    fac2 = np.exp(-21*x - 34*y + 55*z)\n",
    "    fac3 = np.exp(2*y + z)\n",
    "    fac4 = np.exp(-2*x - z)\n",
    "    fxx = 169*fac1 + 1/250*fac4 + 441*fac2\n",
    "    fxy = -273*fac1 + 714*fac2\n",
    "    fxz = -442*fac1 + 1/500*fac4 - 1155*fac2\n",
    "    fyy = 441*fac1 + 1156*fac2 + 1/250*fac3\n",
    "    fyz = 714*fac1 - 1870*fac2 + 1/500*fac3\n",
    "    fzz = 1156*fac1 + 1/1000*fac4 + 3025*fac2 + 1/1000*fac3\n",
    "    Hf = np.array([[fxx,fxy,fxz],[fxy,fyy,fyz],[fxz,fyz,fzz]])\n",
    "    return Hf\n",
    "    "
   ]
  },
  {
   "cell_type": "code",
   "execution_count": 5,
   "id": "6fa2f594",
   "metadata": {},
   "outputs": [
    {
     "name": "stdout",
     "output_type": "stream",
     "text": [
      "x_min = [0.37509284 0.35503302 0.18378635] \t f(min) = 0.0030373436861604593 \t no_iter = 9\n"
     ]
    }
   ],
   "source": [
    "# Using damped Newton method to find minimum \n",
    "x = np.array([2,1,1])\n",
    "x,x_tab=damped_newton1(f1, df1, Hf1, x, a=0.25, b=0.5, st=1000)"
   ]
  },
  {
   "cell_type": "code",
   "execution_count": 6,
   "id": "60c79828",
   "metadata": {},
   "outputs": [
    {
     "name": "stdout",
     "output_type": "stream",
     "text": [
      "x_min = [0.37509284 0.35503302 0.18378635] \t f(x_opt) = 0.0030373436861604593 \t no_iter = 36\n"
     ]
    }
   ],
   "source": [
    "# BFGS method to find minimum\n",
    "x = np.array([2,1,1])\n",
    "x, x_tab = BFGS1(f1, df1, x, st=1000)"
   ]
  },
  {
   "cell_type": "markdown",
   "id": "397881c1",
   "metadata": {},
   "source": [
    "**Result#1:** Using damped Newton, and BFGS method, we found minimum value of $0.0030373436861604593$ at point (0.37509284, 0.35503302, 0.18378635)"
   ]
  },
  {
   "cell_type": "code",
   "execution_count": null,
   "id": "22f8bea4",
   "metadata": {},
   "outputs": [],
   "source": []
  },
  {
   "cell_type": "markdown",
   "id": "7abe4ae2",
   "metadata": {},
   "source": [
    "**2.** Let $y(x) = \\frac45 + c_1 x + c_2 x^2 + c_3 x^3$. Minimize\n",
    "\n",
    "\n",
    "\n",
    "$$ f_2(c_1,\\mkern1mu c_2,\\mkern1mu c_3) = \\int\\limits_0^1 \\mkern-5mu d \n",
    " x \\; \\Bigl( \\frac{d y}{d x} - y^2 \\Bigr)^2 $$\n",
    "\n",
    "\n",
    "\n",
    "Plot $1 / y(x)$ as a function of $x$, over the range $0 \\le x \\le \n",
    "1$, for the optimal values of $c_1$, $c_2$, and $c_3$."
   ]
  },
  {
   "cell_type": "code",
   "execution_count": 7,
   "id": "7f786d75",
   "metadata": {},
   "outputs": [],
   "source": [
    "# Function definition\n",
    "def f2(C,x):\n",
    "    c1 = C[0]; c2 = C[1]; c3 = C[2]\n",
    "    y_prime = c1 + 2*c2*x + 3*c3*x**2\n",
    "    y = (4/5) + c1*x + c2*x**2 + c3*x**3\n",
    "    f = y_prime - y**2\n",
    "    return f**2\n",
    "\n",
    "#simpsons rule\n",
    "def simpsons(f,C,a,b,N=1e8):\n",
    "    int_length = b-a\n",
    "    step_size = int_length/N\n",
    "    y = 0\n",
    "    for idx in range(int(N/2)):\n",
    "        x1 = a + 2*idx*step_size\n",
    "        x2 = x1 + step_size\n",
    "        x3 = x2 + step_size\n",
    "        y = y + (f(C,x1) + 4*f(C,x2) + f(C,x3)) * step_size / 3\n",
    "    return y\n",
    "\n",
    "def df3(simp,f, C, a, b, N=1e4, eps: float = 1e-4):\n",
    "    grad = np.zeros_like(C)\n",
    "    for i in range(len(C)):\n",
    "        dx = np.zeros_like(C)\n",
    "        dx[i] = eps\n",
    "        grad[i] = (simp(f,C + dx,a,b, N ) - simp(f,C - dx,a,b, N )) / (2 * eps)\n",
    "    return grad "
   ]
  },
  {
   "cell_type": "code",
   "execution_count": 8,
   "id": "69a81244",
   "metadata": {},
   "outputs": [],
   "source": [
    "# BFGS method adapted to the case of the question\n",
    "def BFGS2(simp,f, df, c, a, b, N=1e4, st=1000):\n",
    "    stop = st; ff = simp\n",
    "    F = ff(f,c,a,b, N ); dF = df(simp,f, c, a, b, N, eps= 1e-4) \n",
    "    counter = 0\n",
    "    C = np.eye(len(c)); c_tab = np.copy(c)\n",
    "    c_old= np.array([100,100,100])\n",
    "    while (LA.norm(dF)>1.e-10) and counter < stop:\n",
    "        #print(LA.norm(dF))\n",
    "        d = -np.matmul(C,dF)\n",
    "        #print(np.dot(d,dF))\n",
    "        if np.dot(d,dF)>0:\n",
    "            d = -d\n",
    "        while (ff(f,c+d,a,b, N)>=F):\n",
    "            d=0.9*d\n",
    "            if (LA.norm(d)<1.11e-16):\n",
    "                C = np.eye(len(x))\n",
    "                d = -dF\n",
    "                #print(counter)\n",
    "        c_old = c\n",
    "        c = c+d; F=ff(f,c,a,b, N); c_tab = np.vstack((c_tab,c))\n",
    "        counter += 1\n",
    "        new_dF = df(simp,f, c, a, b, N, eps= 1e-4); g = new_dF - dF; dF = new_dF; I = np.eye(len(c)) \n",
    "        rho = 1/(np.matmul(g.T,d))\n",
    "        tempA1 = np.outer(d,g); tempA2 = np.outer(g,d); tempA3 = np.outer(d,d)\n",
    "        tempB1 = I - tempA1*rho; tempB2 = I - tempA2*rho; tempB3 = tempA3*rho;\n",
    "        C = tempB1@C@tempB2 + tempB3\n",
    "    print(\"C_min =\",c,\"\\t\", \"f(x_min) =\",ff(f,c,a,b, N ),\"\\t no_iter =\",counter)\n",
    "    return c, c_tab"
   ]
  },
  {
   "cell_type": "code",
   "execution_count": 9,
   "id": "1f86c8e7",
   "metadata": {},
   "outputs": [
    {
     "name": "stdout",
     "output_type": "stream",
     "text": [
      "C_min = [ 0.5104036  -0.9069906   1.73738544] \t f(x_min) = 0.07725392259864235 \t no_iter = 18\n"
     ]
    }
   ],
   "source": [
    "# Using BFGS method\n",
    "a = 0; b = 1; N =1e6\n",
    "C = np.array([0.4,0,1])\n",
    "c, c_tab = BFGS2(simpsons,f2, df3, C, a, b, N=1e4, st=1000)"
   ]
  },
  {
   "cell_type": "markdown",
   "id": "3f3d89cf",
   "metadata": {},
   "source": [
    "**Result#2:** Using BFGS method, we found minimum value of $0.07725392259864235$ at point (0.5104036, -0.9069906, 1.73738544)"
   ]
  },
  {
   "cell_type": "code",
   "execution_count": 10,
   "id": "4b88f9ed",
   "metadata": {},
   "outputs": [
    {
     "data": {
      "text/plain": [
       "Text(0.5, 1.0, 'plot of opt. value for c(s)')"
      ]
     },
     "execution_count": 10,
     "metadata": {},
     "output_type": "execute_result"
    },
    {
     "data": {
      "image/png": "[encoded data removed]",
      "text/plain": [
       "<Figure size 432x288 with 1 Axes>"
      ]
     },
     "metadata": {
      "needs_background": "light"
     },
     "output_type": "display_data"
    }
   ],
   "source": [
    "# Ploting\n",
    "X = np.linspace(0,1,20)\n",
    "y = np.array([(4/5) + c[0]*x + c[1]*x**2 + c[2]*x**3 for x in X])\n",
    "plt.plot(X,1/y, marker = \"o\")\n",
    "plt.xlabel('x')\n",
    "plt.ylabel('1/y')\n",
    "plt.title('plot of opt. value for c(s)')"
   ]
  },
  {
   "cell_type": "code",
   "execution_count": null,
   "id": "7c3e3877",
   "metadata": {},
   "outputs": [],
   "source": []
  },
  {
   "cell_type": "markdown",
   "id": "67d62a5c",
   "metadata": {},
   "source": [
    "**3.** \\\n",
    "$\\quad \\quad \\quad$ Maximize $f_3(x,\\mkern1mu y,\\mkern1mu z) = x^2 + y^2 + z^2$ \n",
    "subject to $x^4 + y^4 + z^4 + 10 y^2 + 16 z^2 = 154$.\n",
    "\n",
    "Using\n",
    "$$\n",
    "f_t(\\boldsymbol{x}):=f(\\boldsymbol{x})+t \\sum_{i=1}^{n_{\\mathrm{eq}}} h_i^2(\\boldsymbol{x})\n",
    "$$"
   ]
  },
  {
   "cell_type": "code",
   "execution_count": 11,
   "id": "b56c50c5",
   "metadata": {},
   "outputs": [],
   "source": [
    "# Damped newton method\n",
    "def damped_newton3(f, df, Hf, x0, t=10, a=0.25, b=0.5, st=1000):\n",
    "    \"\"\"\n",
    "    Damped newton method for finding optimum values\n",
    "    \"\"\"\n",
    "    alpha=a; beta=b\n",
    "    x=x0; x_tab=np.copy(x)\n",
    "    F=f; dF=df; HF=Hf\n",
    "    stop=st; counter=0\n",
    "    eps=np.finfo(float).eps\n",
    "    while (t<2.e+8):\n",
    "        counter=0\n",
    "        # Stoping criterial\n",
    "        while (((LA.norm(df(x,t)))>= 1e-10) and counter < stop):\n",
    "            # Picking direction: gradient descent\n",
    "            dx = -np.linalg.solve(HF(x,t),dF(x,t))\n",
    "            if np.dot(dx,dF(x,t))>0:\n",
    "                dx=-dx\n",
    "            flag = 0\n",
    "            # Line search : backtracking\n",
    "            while (F(x+dx,t)[0]>= (F(x,t)[0]+alpha*np.dot(dF(x,t),dx))):\n",
    "                dx =dx*beta\n",
    "                if (LA.norm(dx)< np.finfo(float).eps):\n",
    "                    if (flag==1):\n",
    "                        break\n",
    "                    dx = -dF(x,t); flag=1\n",
    "            # Update x\n",
    "            x = x + dx\n",
    "            x_tab = np.vstack((x_tab,x))\n",
    "            counter +=1\n",
    "        t = t*10\n",
    "    print(\"x_max =\",x,\"\\t\", \"f(max) =\",F(x,t)[1],\"\\t no_iter =\",counter)\n",
    "    return x, x_tab"
   ]
  },
  {
   "cell_type": "code",
   "execution_count": 12,
   "id": "a9692418",
   "metadata": {},
   "outputs": [],
   "source": [
    "# This is the gradient method adapted to the case of \n",
    "# equality constrainst using Barrier approach\n",
    "def gradient3(f, df, x0, t=10, alpha = 0.1, beta = 0.5, st=1000 ):\n",
    "    \"\"\"\n",
    "    Grdient Descent Metthod with Backtracking\n",
    "    \"\"\"\n",
    "    x=x0; x_tab=np.copy(x0)\n",
    "    F = f; dF =df; counter = 0\n",
    "    while (t<1e+10):\n",
    "        counter = 0\n",
    "        while ((LA.norm(dF(x,t)))>= 1e-10) and (counter< st): # Stoping criterial\n",
    "            # Picking direction: gradient descent\n",
    "            dx = -dF(x,t)\n",
    "            if np.dot(dx,dF(x,t))>0:\n",
    "                dx=-dx\n",
    "            # Line search : backtracking\n",
    "            while (F(x+dx,t)[0])>= (F(x,t)[0]+alpha*np.matmul(dF(x,t),dx)):\n",
    "                dx =dx*beta\n",
    "            # Update x\n",
    "            x = x + dx\n",
    "            x_tab = np.vstack((x_tab,x))\n",
    "            counter +=1\n",
    "        t = 10*t\n",
    "    print(\"x_max =\",x,\"\\t\", \"f(x_max) =\",F(x,t)[1],\"\\t no_iter =\",counter)\n",
    "    return x, x_tab"
   ]
  },
  {
   "cell_type": "code",
   "execution_count": 13,
   "id": "7f06323b",
   "metadata": {},
   "outputs": [],
   "source": [
    "def ft(X,t):\n",
    "    x = X[0]; y = X[1]; z = X[2]\n",
    "    f = x**2+y**2+z**2\n",
    "    h = x**4 + y**4 +z**4 + 10*y**2 + 16*z**2 - 154\n",
    "    func = -f + t*h**2\n",
    "    return func, f, h\n",
    "\n",
    "# gradient definition\n",
    "def dft(X,t):\n",
    "    x = X[0]; y = X[1]; z = X[2]\n",
    "    h = x**4 + y**4 + z**4 + 10*y**2 + 16*z**2 - 154 \n",
    "    fx = 8*(h)*t*x**3 - 2*x\n",
    "    fy = 8*(h)*(y**3 + 5*y)*t - 2*y\n",
    "    fz = 8*(h)*(z**3 + 8*z)*t - 2*z\n",
    "    df = np.array([fx,fy,fz])\n",
    "    return df\n",
    "\n",
    "# Hessian Matrix\n",
    "def Hft(X,t):\n",
    "    x = X[0]; y = X[1]; z = X[2]\n",
    "    h = x**4 + y**4 + z**4 + 10*y**2 + 16*z**2 - 154  \n",
    "    fxx = 32*t*x**6 + 24*(h)*t*x**2 - 2\n",
    "    fxy = 32*(y**3 + 5*y)*t*x**3\n",
    "    fxz = 32*(z**3 + 8*z)*t*x**3\n",
    "    fyy = 32*(y**3 + 5*y)**2*t + 8*(h)*(3*y**2 + 5)*t - 2\n",
    "    fyz = 32*(y**3 + 5*y)*(z**3 + 8*z)*t\n",
    "    fzz = 32*(z**3 + 8*z)**2*t + 8*(h)*(3*z**2 + 8)*t - 2\n",
    "    Hf = np.array([[fxx,fxy,fxz],[fxy,fyy,fyz],[fxz,fyz,fzz]])\n",
    "    return Hf "
   ]
  },
  {
   "cell_type": "code",
   "execution_count": 14,
   "id": "3a047e27",
   "metadata": {},
   "outputs": [
    {
     "name": "stdout",
     "output_type": "stream",
     "text": [
      "x_max = [3. 2. 1.] \t f(max) = 14.000000000015435 \t no_iter = 1000\n"
     ]
    }
   ],
   "source": [
    "# Using Damped Newton method\n",
    "x = np.array([0.2,0.4,0.1])\n",
    "x, x_tab = damped_newton3(ft, dft, Hft, x, t=10, a=0.25, b=0.5, st=1000)"
   ]
  },
  {
   "cell_type": "markdown",
   "id": "353ec587",
   "metadata": {},
   "source": [
    "**Result#3a:** Using damped Newton method, we found maximum value of $14.000000000015435$ at point (3., 2., 1.)"
   ]
  },
  {
   "cell_type": "code",
   "execution_count": 15,
   "id": "ab124745",
   "metadata": {},
   "outputs": [
    {
     "name": "stdout",
     "output_type": "stream",
     "text": [
      "x_max = [3.03636263 1.75188525 1.27983171] \t f(x_max) = 13.92656914842118 \t no_iter = 3000\n"
     ]
    }
   ],
   "source": [
    "# Using gradient method\n",
    "x = np.array([2.5,1.2,1])\n",
    "x,x_tab = gradient3(ft, dft, x, t=1, alpha = 0.25, beta = 0.5, st=3000 )"
   ]
  },
  {
   "cell_type": "markdown",
   "id": "28156b03",
   "metadata": {},
   "source": [
    "**Result#3b:** Using gradient method, we found maximum value of $13.92656914842118$ at point (3.03636263, 1.75188525, 1.27983171)"
   ]
  },
  {
   "cell_type": "code",
   "execution_count": null,
   "id": "cccdf0b6",
   "metadata": {},
   "outputs": [],
   "source": []
  },
  {
   "cell_type": "markdown",
   "id": "0cd29ac9",
   "metadata": {},
   "source": [
    "**4.** Maximize\n",
    "\n",
    "\n",
    "\n",
    "$$f_4(x_1,\\mkern1mu y_1,\\mkern1mu x_2,\\mkern1mu y_2,\\mkern1mu \n",
    "x_3,\\mkern1mu y_3,\\mkern1mu x_4,\\mkern1mu y_4) = \\sum_{i = 1}^3 \\sum_{j \n",
    "= i + 1}^4 \\Bigl[ (x_i - x_j)^2 + (y_i - y_j)^2 \\Bigr]$$\n",
    "\n",
    "\n",
    "\n",
    "subject to $x_i^2 + y_i^2 \\le 1$, where $1 \\le i \\le 4$."
   ]
  },
  {
   "cell_type": "code",
   "execution_count": 16,
   "id": "925f97a2",
   "metadata": {},
   "outputs": [],
   "source": [
    "# BFGS method \n",
    "def BFGS4(f, df, x0, t, st=1000):\n",
    "    x=x0; stop = st \n",
    "    counter = 0\n",
    "    x_tab = np.copy(x)\n",
    "    x_old= np.array([100,100,100,100,100,100,100,100])\n",
    "    while (t < 5e5):\n",
    "        C = np.eye(len(x))\n",
    "        F = f(x, t)[0];  dF = df(f,x,t)\n",
    "        while (LA.norm(dF)>1.e-10) and counter < stop:\n",
    "            #print(LA.norm(dF))\n",
    "            d = -np.matmul(C,dF)\n",
    "            #print(np.dot(d,dF))\n",
    "            if np.dot(d,dF)>0:\n",
    "                d = -d\n",
    "                #print(np.dot(d,dF))\n",
    "            while (f(x+d,t)[2]>0) or (f(x+d,t)[0]>=F):\n",
    "                d=0.9*d\n",
    "                #print(counter)\n",
    "                if (LA.norm(d)<1.11e-16):\n",
    "                    C = np.eye(len(x))\n",
    "                    d = -dF\n",
    "                    #print(counter)\n",
    "            x_old = x\n",
    "            x = x+d; F=f(x,t)[0]; x_tab = np.vstack((x_tab,x))\n",
    "            counter += 1\n",
    "            new_dF = df(f,x,t); g = new_dF - dF; dF = new_dF; I = np.eye(len(x)) \n",
    "            rho = 1/(np.matmul(g.T,d))\n",
    "            tempA1 = np.outer(d,g); tempA2 = np.outer(g,d); tempA3 = np.outer(d,d)\n",
    "            tempB1 = I - tempA1*rho; tempB2 = I - tempA2*rho; tempB3 = tempA3*rho;\n",
    "            C = tempB1@C@tempB2 + tempB3\n",
    "        t = 10*t\n",
    "    print(\"x_max =\",x,\"\\t\", \"f(x_max) =\",f(x,t)[1],\"\\t no_iter =\",counter, \"ineq=\", f(x,t)[3])\n",
    "    return x, x_tab"
   ]
  },
  {
   "cell_type": "code",
   "execution_count": 17,
   "id": "709eb196",
   "metadata": {},
   "outputs": [],
   "source": [
    "# Damped newton method\n",
    "def damped_newton4(f, df, Hf, x0, t=10, a=0.25, b=0.5, st=1000):\n",
    "    \"\"\"\n",
    "    Damped newton method for finding optimum values\n",
    "    \"\"\"\n",
    "    alpha=a; beta=b\n",
    "    x=x0; x_tab=np.copy(x)\n",
    "    F=f; dF=df; HF=Hf\n",
    "    stop=st; counter=0\n",
    "    eps1=np.finfo(float).eps\n",
    "    while (t<1.e+5):\n",
    "        #counter=0\n",
    "        # Stoping criterial\n",
    "        while (((LA.norm(df(f,x,t)))>= 1e-4) and counter < stop):\n",
    "            # Picking direction: gradient descent\n",
    "            dx = -np.linalg.solve(HF(f,df,x,t),dF(f,x,t))\n",
    "            if np.dot(dx,dF(f,x,t))>0:\n",
    "                dx=-dx\n",
    "            flag = 0\n",
    "            # Line search : backtracking\n",
    "            while (F(x+dx,t)[2]>=0) or (F(x+dx,t)[0]>= (F(x,t)[0]+alpha*np.dot(dF(f,x,t),dx))):\n",
    "                dx =dx*beta\n",
    "                #print(counter)\n",
    "                if (LA.norm(dx)< np.finfo(float).eps):\n",
    "                    if (flag==1):\n",
    "                        break\n",
    "                    dx = -dF(f,x,t); flag=1\n",
    "            # Update x\n",
    "            x = x + dx\n",
    "            x_tab = np.vstack((x_tab,x))\n",
    "            counter +=1\n",
    "        t = t*10\n",
    "    print(\"x_max =\",x,\"\\t\", \"f(max) =\",F(x,t)[1],\"\\t no_iter =\",counter, \"ineq = \", F(x,t)[3])\n",
    "    return x, x_tab"
   ]
  },
  {
   "cell_type": "code",
   "execution_count": 18,
   "id": "8cc242db",
   "metadata": {},
   "outputs": [],
   "source": [
    "# function definition\n",
    "def f4(X,t):\n",
    "    x = X[0::2]; y = X[1::2]\n",
    "    n = len(x)\n",
    "    f = 0; F = 0; f2=0\n",
    "    g1 = x[0]**2+y[0]**2-1; g2 = x[1]**2+y[1]**2-1\n",
    "    g3 = x[2]**2+y[2]**2-1; g4 = x[3]**2+y[3]**2-1\n",
    "    ineq = np.array([g1,g2,g3,g4])\n",
    "    Max =max(np.array([g1,g3,g2,g4]))\n",
    "    for i in range(3):\n",
    "        for j in range(i+1,4):\n",
    "            f -= (x[i] - x[j])**2 + (y[i] - y[j])**2\n",
    "            f2 += (x[i] - x[j])**2 + (y[i] - y[j])**2\n",
    "    f = f - np.log(np.prod(ineq))/t\n",
    "    return f, f2, Max, ineq\n",
    "\n",
    "# finite difference for gradient\n",
    "def df4(func, x, t, eps: float = 1e-5):\n",
    "    grad = np.zeros_like(x)\n",
    "    for i in range(len(x)):\n",
    "        dx = np.zeros_like(x)\n",
    "        dx[i] = eps\n",
    "        grad[i] = (func(x + dx, t)[0] - func(x - dx, t)[0]) / (2 * eps)\n",
    "    return grad\n",
    "\n",
    "#finite difference for Hessian\n",
    "def Hf4(f, df, x, t, eps: float = 1e-5):\n",
    "    n = len(x); #delta = np.sqrt(eps)\n",
    "    D = eps*np.eye(n); #df0 = df(f,x,t)\n",
    "    dfdx = np.zeros_like(D)\n",
    "    for i in range(len(x)):\n",
    "        dfdx[:,i] = (df(f, x + D[:, i], t) - df(f, x - D[:, i], t)) / 2*eps;\n",
    "    return dfdx"
   ]
  },
  {
   "cell_type": "code",
   "execution_count": 19,
   "id": "3336ed1d",
   "metadata": {},
   "outputs": [
    {
     "name": "stdout",
     "output_type": "stream",
     "text": [
      "x_max = [ 0.73487567  0.67805569 -0.66542753 -0.74645572  0.73487563  0.67805566\n",
      " -0.73494386  0.67796857] \t f(x_max) = 14.334719342897204 \t no_iter = 5 ineq= [-1.98231613e-04 -1.00532763e-05 -1.98322079e-04 -2.16141099e-04]\n"
     ]
    },
    {
     "name": "stderr",
     "output_type": "stream",
     "text": [
      "/tmp/ipykernel_40784/562759732.py:14: RuntimeWarning: invalid value encountered in log\n",
      "  f = f - np.log(np.prod(ineq))/t\n"
     ]
    }
   ],
   "source": [
    "# Using BFGS method with logarithm barrier approach\n",
    "x = np.array([ 0.7,  0.7, -0.7, -0.7, 0.7,  0.7, -0.7,  0.7])\n",
    "x,x_tab=BFGS4(f4, df4, x, t=100, st=100)"
   ]
  },
  {
   "cell_type": "markdown",
   "id": "f455531f",
   "metadata": {},
   "source": [
    "**Result#4a:** Using BFGS Method with randomly generated initial values, we found optimum value of $14.334719342897204$ at point showing in the above results"
   ]
  },
  {
   "cell_type": "code",
   "execution_count": 23,
   "id": "0d306cac",
   "metadata": {},
   "outputs": [
    {
     "data": {
      "text/plain": [
       "array([ 1.40000118,  4.20000118, -1.40000118,  1.39999882,  1.40000118,\n",
       "        4.20000118, -1.40000118,  4.20000118])"
      ]
     },
     "execution_count": 23,
     "metadata": {},
     "output_type": "execute_result"
    }
   ],
   "source": [
    "x = np.array([ 0.7,  0.7, -0.7, -0.7, 0.7,  0.7, -0.7,  0.7])\n",
    "t=10\n",
    "df4(f4, x, t)"
   ]
  },
  {
   "cell_type": "code",
   "execution_count": 20,
   "id": "99b98b1b",
   "metadata": {},
   "outputs": [
    {
     "name": "stderr",
     "output_type": "stream",
     "text": [
      "/tmp/ipykernel_40784/562759732.py:14: RuntimeWarning: invalid value encountered in log\n",
      "  f = f - np.log(np.prod(ineq))/t\n"
     ]
    },
    {
     "name": "stdout",
     "output_type": "stream",
     "text": [
      "x_max = [ 0.94005649  0.33733466 -0.94005647 -0.33733471  0.99703583 -0.05847938\n",
      " -0.99703582  0.05847943] \t f(max) = 15.960009228003146 \t no_iter = 1000 ineq =  [-0.00249912 -0.00249912 -0.00249972 -0.00249972]\n"
     ]
    }
   ],
   "source": [
    "# Using damped Newton method \n",
    "x ,t= np.array([ 0.7,  0.7, -0.7, -0.7, 0.7,  0.7, -0.7,  0.7]), 10\n",
    "x, x_tab = damped_newton4(f4, df4, Hf4, x, t=100, a=0, b=0.5, st=1000)"
   ]
  },
  {
   "cell_type": "markdown",
   "id": "181145fe",
   "metadata": {},
   "source": [
    "**Result#4b:** Using damped Newton method, we found optimum value of $15.960009228003146$ at point showing in the above results"
   ]
  },
  {
   "cell_type": "code",
   "execution_count": null,
   "id": "f1343854",
   "metadata": {},
   "outputs": [],
   "source": []
  },
  {
   "cell_type": "markdown",
   "id": "4434c894",
   "metadata": {},
   "source": [
    "**5.** An elastic ring between two vertical sheets of glass (so it \n",
    "does not fall, and $z = 0$) is standing on a table ($y \\ge 0)$. Minimize\n",
    "\n",
    "\n",
    " $$ f_5(x_1,\\mkern1mu x_2,\\mkern1mu ...,\\mkern1mu x_{20},\\mkern1mu \n",
    "y_1,\\mkern1mu y_2,\\mkern1mu ...,\\mkern1mu y_{20}) = \\sum_{n = 1}^{20} \n",
    "\\mkern1mu \\Bigl[ \\mkern1mu {\\textstyle\\frac{1}{150}} \\mkern1.5mu y_n + \n",
    "\\bigl( x_{n - 1} - 2 x_n + x_{n + 1} \\bigr)^2 + \\bigl( y_{n - 1} - 2 y_n \n",
    "+ y_{n + 1} \\bigr)^2 \\mkern0.5mu \\Bigr] $$\n",
    "\n",
    "\n",
    "subject to $(x_n - x_{n - 1})^2 + (y_n - y_{n - 1})^2 = (1 / 20)^2$ \n",
    "for all $1 \\le n \\le 20$ equality constraints, and $y_n \\ge 0$ for all \n",
    "$1 \\le n \\le 20$ inequality constraints. The manipulations with indices \n",
    "are done modulo $20$, so $(x_0,\\mkern1mu y_0)$ and $(x_{21},\\mkern1mu \n",
    "y_{21})$ are identified with $(x_{20},\\mkern1mu y_{20})$ and \n",
    "$(x_1,\\mkern1mu y_1)$, respectively. Plot the solution by drawing points \n",
    "$(x_n,\\mkern1mu y_n)$ and connecting consecutive points by segments on \n",
    "the $xy$-plane."
   ]
  },
  {
   "cell_type": "code",
   "execution_count": 25,
   "id": "08dbceae",
   "metadata": {},
   "outputs": [],
   "source": [
    "# BFGS method \n",
    "def BFGS5(f, df, x0, t, st=1000):\n",
    "    x=x0; stop = st \n",
    "    counter = 0\n",
    "    x_tab = np.copy(x)\n",
    "    x_old= 0 #np.array([100,100])\n",
    "    C = np.eye(len(x))\n",
    "    F = f(x, t)[0];  dF = df(f,x,t)\n",
    "    while (t < 5e+5):\n",
    "        C = np.eye(len(x))\n",
    "        F = f(x, t)[0];  dF = df(f,x,t)\n",
    "        while (LA.norm(dF)>1.e-2) and counter < stop:\n",
    "            #print(LA.norm(dF))\n",
    "            d = -np.matmul(C,dF)\n",
    "            #print(np.dot(d,dF))\n",
    "            if np.dot(d,dF)>0:\n",
    "                d = -d\n",
    "                #print(np.dot(d,dF))\n",
    "            while (f(x+d,t)[0]>=F): #or ( (f(x+d,t)[3])):\n",
    "                d=0.9*d\n",
    "                #print(counter)\n",
    "                if (LA.norm(d)<1.11e-16):\n",
    "                    C = np.eye(len(x))\n",
    "                    d = -dF\n",
    "                    #print(counter)\n",
    "            x_old = x\n",
    "            x = x+d; F=f(x,t)[0]; x_tab = np.vstack((x_tab,x))\n",
    "            counter += 1\n",
    "            new_dF = df(f,x,t); g = new_dF - dF; dF = new_dF; I = np.eye(len(x)) \n",
    "            rho = 1/(np.matmul(g.T,d))\n",
    "            tempA1 = np.outer(d,g); tempA2 = np.outer(g,d); tempA3 = np.outer(d,d)\n",
    "            tempB1 = I - tempA1*rho; tempB2 = I - tempA2*rho; tempB3 = tempA3*rho;\n",
    "            C = tempB1@C@tempB2 + tempB3\n",
    "        t = 10*t\n",
    "    print(\"x_min =\",x,\"\\t\", \"f(x_min) =\",f(x,t)[1],\"\\t no_iter =\",counter, )\n",
    "    return x, x_tab"
   ]
  },
  {
   "cell_type": "code",
   "execution_count": 26,
   "id": "4be698e5",
   "metadata": {},
   "outputs": [],
   "source": [
    "# function definition\n",
    "def ft5(X,t): # f_t(x,y)\n",
    "    x, y = X[0::2], X[1::2]; #print(len(x))\n",
    "    x = np.append(np.insert(x,0,x[-1]),x[0]); #print(\"x2\",len(x))\n",
    "    y = np.append(np.insert(y,0,y[-1]),y[0])\n",
    "    n1 = len(x); n2 = len(y) ; #print(\"n2=\",n1)\n",
    "    dx, dy =  x[1 : n1] - x[0 : n1-1], y[1 : n2] - y[0 : n2-1]; # print(\"dx\",len(dx))\n",
    "    h = 0; F3 = (y[n2-1]/150); F = (y[n2-1]/150) \n",
    "    for i in range(1, n1-1):\n",
    "        F3 += (y[i]/150) + (dx[i] - dx[i - 1])**2 + (dy[i] - dy[i - 1])**2\n",
    "        F += (y[i]/150) + (dx[i] - dx[i - 1])**2 + (dy[i] - dy[i - 1])**2\n",
    "    for i in range(0, n1-1): # equality and inequality constraints terms\n",
    "        F += t * (dx[i]**2 + dy[i]**2 - 0.05**2)**2 #- np.log(y[i])/t\n",
    "        h += dx[i]**2 + dy[i]**2 - 0.05**2\n",
    "    return F, F3, h, max(y[1:20])\n",
    "\n",
    "def dft5(func, x, t, eps: float = 1e-5):\n",
    "    grad = np.zeros_like(x)\n",
    "    for i in range(len(x)):\n",
    "        dx = np.zeros_like(x)\n",
    "        dx[i] = eps\n",
    "        grad[i] = (func(x + dx, t)[0] - func(x - dx, t)[0]) / (2 * eps)\n",
    "    return grad\n",
    "\n",
    "def Hft5(f, df, x, t, eps: float = 1e-5):\n",
    "    n = len(x); #delta = np.sqrt(eps)\n",
    "    D = eps*np.eye(n); #df0 = df(f,x,t)\n",
    "    dfdx = np.zeros_like(D)\n",
    "    for i in range(len(x)):\n",
    "        dfdx[:,i] = (df(f, x + D[:, i], t) - df(f, x - D[:, i], t)) / 2*eps;\n",
    "    return dfdx"
   ]
  },
  {
   "cell_type": "code",
   "execution_count": 27,
   "id": "a0d7d8ea",
   "metadata": {},
   "outputs": [
    {
     "name": "stdout",
     "output_type": "stream",
     "text": [
      "x_min = [ 2.56232234 -0.22646759  2.51911767 -0.24988517  2.49396387 -0.23639109\n",
      "  2.51658096 -0.22433408  2.50322136 -0.18541784  2.51296025 -0.16041639\n",
      "  2.45799252 -0.14651247  2.43058642 -0.10418924  2.44839448 -0.08297052\n",
      "  2.44798332 -0.04423564  2.43315997 -0.07848133  2.42729397 -0.08011293\n",
      "  2.42457247 -0.1231537   2.45211078 -0.1160294   2.45899874 -0.09171073\n",
      "  2.47257753 -0.06972113  2.50579473 -0.10769639  2.52939383 -0.1766544\n",
      "  2.57685404 -0.23044371  2.56971056 -0.23826382] \t f(x_min) = 0.02083345547563182 \t no_iter = 68\n"
     ]
    }
   ],
   "source": [
    "np.random.seed(0)\n",
    "#x, t = np.random.randn(40), 1.\n",
    "x, t = np.linspace(2,3,40), 1000.\n",
    "x, x_tab = BFGS5(ft5, dft5, x, t, st=68)"
   ]
  },
  {
   "cell_type": "code",
   "execution_count": 28,
   "id": "a531d1cc",
   "metadata": {},
   "outputs": [
    {
     "data": {
      "text/plain": [
       "[<matplotlib.lines.Line2D at 0x7f9114bf30d0>]"
      ]
     },
     "execution_count": 28,
     "metadata": {},
     "output_type": "execute_result"
    },
    {
     "data": {
      "image/png": "[encoded data removed]",
      "text/plain": [
       "<Figure size 432x288 with 1 Axes>"
      ]
     },
     "metadata": {
      "needs_background": "light"
     },
     "output_type": "display_data"
    }
   ],
   "source": [
    "x1 = np.array([x[2 * i] for i in range(20)])\n",
    "x2 = np.array([x[2 * i+1] for i in range(20)])\n",
    "plt.plot(x1,x2, marker='o')"
   ]
  },
  {
   "cell_type": "code",
   "execution_count": null,
   "id": "2e88da80",
   "metadata": {},
   "outputs": [],
   "source": []
  },
  {
   "cell_type": "markdown",
   "id": "570e56fd",
   "metadata": {},
   "source": [
    "Trying Newton method"
   ]
  },
  {
   "cell_type": "code",
   "execution_count": 29,
   "id": "7f72f066",
   "metadata": {},
   "outputs": [],
   "source": [
    "# Damped newton method\n",
    "def damped_newton5(f, df, Hf, x0, t=10, a=0.25, b=0.5, st=1000):\n",
    "    \"\"\"\n",
    "    Damped newton method for finding optimum values\n",
    "    \"\"\"\n",
    "    alpha=a; beta=b\n",
    "    x=x0; x_tab=np.copy(x)\n",
    "    F=f; dF=df; HF=Hf\n",
    "    stop=st; counter=0\n",
    "    eps1=np.finfo(float).eps\n",
    "    while (t<1.e+5):\n",
    "        #counter=0\n",
    "        # Stoping criterial\n",
    "        while (((LA.norm(df(f,x,t)))>= 1e-4) and counter < stop):\n",
    "            # Picking direction: gradient descent\n",
    "            dx = -np.linalg.solve(HF(f,df,x,t),dF(f,x,t))\n",
    "            #print(np.dot(dx,dF(f,x,t)))\n",
    "            if np.dot(dx,dF(f,x,t))>0:\n",
    "                dx=-dx\n",
    "            flag = 0\n",
    "            # Line search : backtracking\n",
    "            while (F(x+dx,t)[0]>= (F(x,t)[0]+alpha*np.dot(dF(f,x,t),dx))):\n",
    "                dx =dx*beta\n",
    "                #print(counter)\n",
    "                if (LA.norm(dx)< np.finfo(float).eps):\n",
    "                    if (flag==1):\n",
    "                        break\n",
    "                    dx = -dF(f,x,t); flag=1\n",
    "            # Update x\n",
    "            x = x + dx\n",
    "            x_tab = np.vstack((x_tab,x))\n",
    "            counter +=1\n",
    "        t = t*10\n",
    "    print(\"x_min =\",x,\"\\t\", \"f(min) =\",F(x,t)[1],\"\\t no_iter =\",counter)\n",
    "    return x, x_tab"
   ]
  },
  {
   "cell_type": "code",
   "execution_count": 30,
   "id": "83df8721",
   "metadata": {},
   "outputs": [
    {
     "name": "stdout",
     "output_type": "stream",
     "text": [
      "x_min = [ -1944.70955675 -12244.28084632  -1944.71974874 -12244.32934723\n",
      "  -1944.69049629 -12244.36290281  -1944.65377145 -12244.3588298\n",
      "  -1944.66098629 -12244.30929952  -1944.63091856 -12244.35015949\n",
      "  -1944.66314469 -12244.38520644  -1944.64095706 -12244.39260112\n",
      "  -1944.66124767 -12244.43724478  -1944.62284545 -12244.46523732\n",
      "  -1944.59130458 -12244.48074727  -1944.63962473 -12244.44444948\n",
      "  -1944.63230967 -12244.44353371  -1944.56545182 -12244.40252563\n",
      "  -1944.60310546 -12244.39580646  -1944.65664412 -12244.42559395\n",
      "  -1944.68082887 -12244.34279874  -1944.65672201 -12244.24131385\n",
      "  -1944.69409878 -12244.2384283   -1944.68169187 -12244.24473062] \t f(min) = -1714.1116801675319 \t no_iter = 50\n"
     ]
    }
   ],
   "source": [
    "np.random.seed(0)\n",
    "#x, t = np.random.randn(40), 1.\n",
    "x, t = np.linspace(2,3,40), 1000.\n",
    "x, x_tab = damped_newton5(ft5, dft5, Hft5, x, t=10000, a=0, b=0.5, st=50)\n",
    "#ddf5t(f5t, df5t, x, t)"
   ]
  },
  {
   "cell_type": "code",
   "execution_count": null,
   "id": "f80616f7",
   "metadata": {},
   "outputs": [],
   "source": []
  }
 ],
 "metadata": {
  "kernelspec": {
   "display_name": "Python 3 (ipykernel)",
   "language": "python",
   "name": "python3"
  },
  "language_info": {
   "codemirror_mode": {
    "name": "ipython",
    "version": 3
   },
   "file_extension": ".py",
   "mimetype": "text/x-python",
   "name": "python",
   "nbconvert_exporter": "python",
   "pygments_lexer": "ipython3",
   "version": "3.11.5"
  }
 },
 "nbformat": 4,
 "nbformat_minor": 5
}
